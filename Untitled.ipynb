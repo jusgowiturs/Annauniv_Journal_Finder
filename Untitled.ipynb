{
 "cells": [
  {
   "cell_type": "code",
   "execution_count": null,
   "metadata": {},
   "outputs": [],
   "source": [
    "import urllib.request\n",
    "from bs4 import BeautifulSoup"
   ]
  },
  {
   "cell_type": "code",
   "execution_count": null,
   "metadata": {},
   "outputs": [],
   "source": [
    "ISSN = \"\"\"0      2053-1583\n",
    "1      2190-572X\n",
    "2      2329-7662\n",
    "3      1619-4500\n",
    "4      0149-1423\n",
    "5      1550-7416\n",
    "6      1530-9932\n",
    "7      2330-5517\n",
    "8      1532-8813\n",
    "9      0001-3072\"\"\""
   ]
  },
  {
   "cell_type": "code",
   "execution_count": null,
   "metadata": {},
   "outputs": [],
   "source": [
    "ISSN = ISSN.split('\\n')"
   ]
  },
  {
   "cell_type": "code",
   "execution_count": null,
   "metadata": {},
   "outputs": [],
   "source": [
    "ISSN = [i.split('      ')[1] for i in ISSN]\n",
    "ISSN"
   ]
  },
  {
   "cell_type": "code",
   "execution_count": null,
   "metadata": {},
   "outputs": [],
   "source": [
    "def Parsing(Link):\n",
    "    response = urllib.request.urlopen(Link).read()\n",
    "    soup = BeautifulSoup(response,'html.parser')\n",
    "    try:\n",
    "        link = 'https://www.scimagojr.com/'+soup.find('div', class_='search_results').a['href']\n",
    "        response = urllib.request.urlopen(link).read()\n",
    "        soup = BeautifulSoup(response,'html.parser')\n",
    "        Scope = soup.find('div', class_='fullwidth').contents[2]\n",
    "        return Scope\n",
    "    except:\n",
    "        return None"
   ]
  },
  {
   "cell_type": "code",
   "execution_count": null,
   "metadata": {},
   "outputs": [],
   "source": [
    "%%timeit\n",
    "URL = 'https://www.scimagojr.com/journalsearch.php?q='+ISSN[0]\n",
    "Parsing(URL)"
   ]
  },
  {
   "cell_type": "code",
   "execution_count": null,
   "metadata": {},
   "outputs": [],
   "source": [
    "URL = 'https://www.scimagojr.com/journalsearch.php?q='_ISSN[0]"
   ]
  },
  {
   "cell_type": "code",
   "execution_count": null,
   "metadata": {},
   "outputs": [],
   "source": [
    "i=0\n",
    "response = urllib.request.urlopen(URL+ISSN[i]).read()\n"
   ]
  },
  {
   "cell_type": "code",
   "execution_count": null,
   "metadata": {},
   "outputs": [],
   "source": [
    "response"
   ]
  },
  {
   "cell_type": "code",
   "execution_count": null,
   "metadata": {},
   "outputs": [],
   "source": [
    "import requests\n",
    "import urllib.request\n",
    "from bs4 import BeautifulSoup"
   ]
  },
  {
   "cell_type": "code",
   "execution_count": null,
   "metadata": {},
   "outputs": [],
   "source": [
    "soup = BeautifulSoup(response,'html.parser')\n",
    "link = 'https://www.scimagojr.com/'+soup.find('div', class_='search_results').a['href']\n",
    "link"
   ]
  },
  {
   "cell_type": "code",
   "execution_count": null,
   "metadata": {},
   "outputs": [],
   "source": [
    "Scope = soup.find('div', class_='fullwidth').contents[2]"
   ]
  },
  {
   "cell_type": "code",
   "execution_count": null,
   "metadata": {},
   "outputs": [],
   "source": [
    "for link in soup.findAll('div class'):\n",
    "    print(link)"
   ]
  },
  {
   "cell_type": "code",
   "execution_count": null,
   "metadata": {},
   "outputs": [],
   "source": [
    "mydivs = soup.find_all(\"div\", {\"class\": \"search_results\"})\n",
    "mydivs"
   ]
  },
  {
   "cell_type": "code",
   "execution_count": null,
   "metadata": {},
   "outputs": [],
   "source": [
    "mydivs = soup.find_all(\"a\", class_= \"search_results\")\n",
    "mydivs"
   ]
  },
  {
   "cell_type": "code",
   "execution_count": null,
   "metadata": {},
   "outputs": [],
   "source": [
    "soup.find('div', class_='search_results').a"
   ]
  },
  {
   "cell_type": "code",
   "execution_count": null,
   "metadata": {},
   "outputs": [],
   "source": [
    "'https://www.scimagojr.com/journalsearch.php?q=21100404576&amp;tip=sid&amp;clean=0'\n",
    "    'journalsearch.php?q=21100404576&amp;tip=sid&amp;clean=0\n",
    "    https://www.scimagojr.com/journalsearch.php?q=21100404576&tip=sid&clean=0\n",
    "   ' https://www.scimagojr.com/journalsearch.php?q=21100447128&tip=sid&clean=0'\n",
    "2053-1583',\n",
    " '2190-572X"
   ]
  },
  {
   "cell_type": "code",
   "execution_count": null,
   "metadata": {},
   "outputs": [],
   "source": [
    "for link in soup.findAll('a',href=True):\n",
    "    print(link['href'])"
   ]
  },
  {
   "cell_type": "code",
   "execution_count": null,
   "metadata": {},
   "outputs": [],
   "source": [
    "New_url = \"https://www.scimagojr.com/journalsearch.php?q=21100404576&tip=sid&clean=0\"\n",
    "New_url = 'https://www.scimagojr.com/journalsearch.php?q=21100404576&tip=sid&clean=0'\n",
    "link = 'https://www.scimagojr.com/journalsearch.php?q=21100447128&tip=sid&clean=0'"
   ]
  },
  {
   "cell_type": "code",
   "execution_count": null,
   "metadata": {},
   "outputs": [],
   "source": [
    "response = urllib.request.urlopen(link).read()"
   ]
  },
  {
   "cell_type": "code",
   "execution_count": null,
   "metadata": {},
   "outputs": [],
   "source": [
    "soup = BeautifulSoup(response,'html.parser')"
   ]
  },
  {
   "cell_type": "code",
   "execution_count": null,
   "metadata": {},
   "outputs": [],
   "source": [
    "Scope = soup.find('div', class_='fullwidth').contents[2]"
   ]
  },
  {
   "cell_type": "code",
   "execution_count": null,
   "metadata": {},
   "outputs": [],
   "source": [
    "l = 1\n",
    "for link in soup.findAll('div'):\n",
    "    print(l,\"_\"*100)\n",
    "    print(link.text)\n",
    "    l=l+1"
   ]
  },
  {
   "cell_type": "code",
   "execution_count": null,
   "metadata": {},
   "outputs": [],
   "source": [
    "import pandas as pd"
   ]
  },
  {
   "cell_type": "code",
   "execution_count": null,
   "metadata": {},
   "outputs": [],
   "source": [
    "DF = pd.DataFrame()"
   ]
  },
  {
   "cell_type": "code",
   "execution_count": null,
   "metadata": {},
   "outputs": [],
   "source": [
    "DF['A'] = [i for i in range(10)]\n",
    "DF['B'] = [None if i%2==0 for i in DF['A'] else i]"
   ]
  },
  {
   "cell_type": "code",
   "execution_count": null,
   "metadata": {},
   "outputs": [],
   "source": [
    "[None if i%2==0 else i for i in range(10)  ]"
   ]
  },
  {
   "cell_type": "code",
   "execution_count": null,
   "metadata": {},
   "outputs": [],
   "source": [
    "DF.to_csv('Sam.csv')"
   ]
  },
  {
   "cell_type": "code",
   "execution_count": null,
   "metadata": {},
   "outputs": [],
   "source": [
    "Df1 = pd.read_csv('Sam.csv')\n",
    "Df1"
   ]
  },
  {
   "cell_type": "code",
   "execution_count": 1,
   "metadata": {},
   "outputs": [],
   "source": [
    "from PRABHURAM import prabhu"
   ]
  },
  {
   "cell_type": "code",
   "execution_count": 2,
   "metadata": {},
   "outputs": [
    {
     "name": "stdout",
     "output_type": "stream",
     "text": [
      "Welcome to hell 0\n"
     ]
    }
   ],
   "source": [
    "x = prabhu()\n",
    "print(x)"
   ]
  },
  {
   "cell_type": "code",
   "execution_count": null,
   "metadata": {},
   "outputs": [],
   "source": [
    "an.And1()"
   ]
  },
  {
   "cell_type": "code",
   "execution_count": null,
   "metadata": {},
   "outputs": [],
   "source": []
  }
 ],
 "metadata": {
  "kernelspec": {
   "display_name": "Python 3",
   "language": "python",
   "name": "python3"
  },
  "language_info": {
   "codemirror_mode": {
    "name": "ipython",
    "version": 3
   },
   "file_extension": ".py",
   "mimetype": "text/x-python",
   "name": "python",
   "nbconvert_exporter": "python",
   "pygments_lexer": "ipython3",
   "version": "3.7.4"
  }
 },
 "nbformat": 4,
 "nbformat_minor": 2
}
