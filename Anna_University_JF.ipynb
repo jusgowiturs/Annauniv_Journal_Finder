{
 "cells": [
  {
   "cell_type": "markdown",
   "metadata": {
    "id": "8SjUKjv4TUX8"
   },
   "source": [
    "# Link to reach Anna University Journal lists"
   ]
  },
  {
   "cell_type": "code",
   "execution_count": null,
   "metadata": {
    "id": "Bt0XZXBpTKIz"
   },
   "outputs": [],
   "source": [
    "URL1 = \"https://cfr.annauniv.edu/research/annexure-1-journals.php\"\n",
    "URL2 = \"https://cfr.annauniv.edu/research/annexure-2-journals.php\""
   ]
  },
  {
   "cell_type": "markdown",
   "metadata": {
    "id": "gCDB72LaTccq"
   },
   "source": [
    "## Including necessary packages"
   ]
  },
  {
   "cell_type": "code",
   "execution_count": null,
   "metadata": {
    "id": "AU7OGfQMTUBO"
   },
   "outputs": [],
   "source": [
    "import requests\n",
    "import lxml.html as lh\n",
    "import pandas as pd\n",
    "import urllib.request\n",
    "import threading\n",
    "from bs4 import BeautifulSoup as BS\n",
    "import multiprocessing\n",
    "import time\n",
    "from joblib import Parallel, delayed\n"
   ]
  },
  {
   "cell_type": "code",
   "execution_count": null,
   "metadata": {
    "id": "CYZ5J1UVTSgG"
   },
   "outputs": [],
   "source": []
  },
  {
   "cell_type": "code",
   "execution_count": null,
   "metadata": {
    "id": "RbIujIjYXrex"
   },
   "outputs": [],
   "source": [
    "class WS:\n",
    "    def __init__(self,Link=None):\n",
    "        self.Link = Link\n",
    "        self.URL  = 'https://www.scimagojr.com/journalsearch.php?q='\n",
    "        self.num_cores = multiprocessing.cpu_count()\n",
    "    def Parsing(self):\n",
    "        '''Parsing of Anna university Annexture table'''\n",
    "        Soup  = BS(requests.get(self.Link).content,'html.parser')\n",
    "        Table = Soup.find('table',{\"class\":\"myTable\"})\n",
    "        self.Table_Data = []\n",
    "        for row in Table.find_all('tr'):\n",
    "            tmp = []\n",
    "            column = row.find_all('td')\n",
    "            for index in range(len(column)):\n",
    "                tmp.append(column[index].text.strip())\n",
    "            self.Table_Data.append(tmp)\n",
    "        self.Table_Data = pd.DataFrame(self.Table_Data)\n",
    "        return self.Table_Data\n",
    "    def clean(self):\n",
    "        \"\"\" Cleaning of Data Frame by rename column name and removing certain indexes\"\"\"\n",
    "        self.Table_Data.rename(columns = self.Table_Data.iloc[2],inplace=True)\n",
    "        self.Table_Data =  self.Table_Data.drop(labels=[0,1,2],axis = 0)\n",
    "        return self.Table_Data\n",
    "    def extraction(self):\n",
    "        '''Extraction of ISSN and modifing DataFrame with added SCOPE of the corresponding table'''\n",
    "        self.ISSN = self.Table_Data['ISSN']\n",
    "        self.ISSN = [i.split('\\n')[0] for i in self.ISSN]\n",
    "        self.Link = [self.URL+i for i in self.ISSN]\n",
    "    def Link_Parsing(self,j,Link):\n",
    "        try:\n",
    "            response = urllib.request.urlopen(Link).read()\n",
    "            soup = BS(response,'html.parser')\n",
    "            print(j,\"LINK:->\")\n",
    "            return 'https://www.scimagojr.com/'+soup.find('div', class_='search_results').a['href']\n",
    "            \n",
    "        except:\n",
    "            print(j,\"LINK:-(\")\n",
    "            return None\n",
    "    def Scope_Parsing(self,j,url):\n",
    "        try:\n",
    "            response = urllib.request.urlopen(url).read()\n",
    "            soup = BS(response,'html.parser')\n",
    "            print(j,\"SCOPE:->\")\n",
    "            return(str(soup.find('div', class_='fullwidth').contents[2]))\n",
    "            \n",
    "\n",
    "        except:\n",
    "          #print(url)\n",
    "          #Notaccess.append(url)\n",
    "          print(j,\"SCOPE:-(\")\n",
    "          return (None)\n",
    "          \n",
    "    def link_go(self):\n",
    "        self.Link1 = Parallel(n_jobs=self.num_cores)(delayed(self.Link_Parsing)(j,i) for j,i in enumerate(self.Link[0:10]))\n",
    "        \n",
    "    def scope_go(self):\n",
    "        self.scope = Parallel(n_jobs=self.num_cores)(delayed(self.Scope_Parsing)(j,i) for j,i in enumerate(self.Link1))"
   ]
  },
  {
   "cell_type": "code",
   "execution_count": null,
   "metadata": {},
   "outputs": [],
   "source": [
    "T = WS(URL1)\n",
    "table = T.Parsing()"
   ]
  },
  {
   "cell_type": "code",
   "execution_count": null,
   "metadata": {},
   "outputs": [],
   "source": [
    "T.clean()\n",
    "T.extraction()"
   ]
  },
  {
   "cell_type": "code",
   "execution_count": null,
   "metadata": {},
   "outputs": [],
   "source": [
    "T.Link"
   ]
  },
  {
   "cell_type": "code",
   "execution_count": null,
   "metadata": {},
   "outputs": [],
   "source": [
    "# p1 = multiprocessing.Process(target=T.link_go)\n",
    "# p1.start()\n",
    "# p2 = multiprocessing.Process(target=T.scope_go)\n",
    "# p2.start()\n",
    "# p1.join()\n",
    "# p2.join()"
   ]
  },
  {
   "cell_type": "code",
   "execution_count": null,
   "metadata": {},
   "outputs": [],
   "source": [
    "T.scope_go()"
   ]
  },
  {
   "cell_type": "code",
   "execution_count": null,
   "metadata": {},
   "outputs": [],
   "source": [
    "T.scope"
   ]
  },
  {
   "cell_type": "code",
   "execution_count": null,
   "metadata": {},
   "outputs": [],
   "source": [
    "import spacy"
   ]
  },
  {
   "cell_type": "code",
   "execution_count": null,
   "metadata": {},
   "outputs": [],
   "source": []
  },
  {
   "cell_type": "code",
   "execution_count": null,
   "metadata": {},
   "outputs": [],
   "source": [
    "T.Link1[0]"
   ]
  },
  {
   "cell_type": "code",
   "execution_count": null,
   "metadata": {},
   "outputs": [],
   "source": [
    "response = urllib.request.urlopen(T.Link1[0]).read()\n",
    "response"
   ]
  },
  {
   "cell_type": "code",
   "execution_count": null,
   "metadata": {},
   "outputs": [],
   "source": [
    "soup = BS(response,'html.parser')\n",
    "str(soup.find('div', class_='fullwidth').contents[2])\n",
    "            "
   ]
  },
  {
   "cell_type": "code",
   "execution_count": null,
   "metadata": {},
   "outputs": [],
   "source": []
  },
  {
   "cell_type": "code",
   "execution_count": null,
   "metadata": {},
   "outputs": [],
   "source": []
  },
  {
   "cell_type": "code",
   "execution_count": null,
   "metadata": {},
   "outputs": [],
   "source": []
  },
  {
   "cell_type": "code",
   "execution_count": null,
   "metadata": {},
   "outputs": [],
   "source": [
    "import multiprocessing\n",
    "import time\n",
    "from joblib import Parallel, delayed\n"
   ]
  },
  {
   "cell_type": "code",
   "execution_count": null,
   "metadata": {},
   "outputs": [],
   "source": [
    "def Link_Parsing(Link):\n",
    "        try:\n",
    "            response = urllib.request.urlopen(Link).read()\n",
    "            soup = BS(response,'html.parser')\n",
    "            return 'https://www.scimagojr.com/'+soup.find('div', class_='search_results').a['href']\n",
    "            \n",
    "        except:\n",
    "            return None\n",
    "def Scope_Parsing(url):\n",
    "    try:\n",
    "        response = urllib.request.urlopen(link).read()\n",
    "        soup = BS(response,'html.parser')\n",
    "        return(str(soup.find('div', class_='fullwidth').contents[2]))\n",
    "\n",
    "\n",
    "    except:\n",
    "      #print(url)\n",
    "      #Notaccess.append(url)\n",
    "      print(\":-(\")\n",
    "      return (None)\n"
   ]
  },
  {
   "cell_type": "code",
   "execution_count": null,
   "metadata": {},
   "outputs": [],
   "source": []
  },
  {
   "cell_type": "code",
   "execution_count": null,
   "metadata": {},
   "outputs": [],
   "source": [
    "inputs = range(100) \n",
    "def processInput(i):\n",
    "    return i * i\n",
    " \n",
    "num_cores = multiprocessing.cpu_count()\n",
    "def fo(i,j):\n",
    "    return Parallel(n_jobs = i)(delayed(processInput)(item) for item in j)\n",
    "    \n",
    "#results = Parallel(n_jobs=num_cores)(delayed(processInput)(i) for i in inputs)\n",
    "fo(num_cores,inputs)"
   ]
  },
  {
   "cell_type": "code",
   "execution_count": null,
   "metadata": {},
   "outputs": [],
   "source": [
    "results"
   ]
  },
  {
   "cell_type": "code",
   "execution_count": null,
   "metadata": {},
   "outputs": [],
   "source": [
    "# square function\n",
    "def fetch_url(url):\n",
    "    try:\n",
    "      urlHandler = urllib.request.urlopen(url)\n",
    "      tmp=(urlHandler.read())\n",
    "      #html.append('https://www.scimagojr.com/'+BeautifulSoup(tmp,'html.parser').find('div', class_='search_results').a['href'])\n",
    "\n",
    "      print('*_*')\n",
    "      return 'https://www.scimagojr.com/'+BS(tmp,'html.parser').find('div', class_='search_results').a['href']\n",
    "    except:\n",
    "      #print(url)\n",
    "      #Notaccess.append(url)\n",
    "      print(\":-(\")\n",
    "      return (None)"
   ]
  },
  {
   "cell_type": "code",
   "execution_count": null,
   "metadata": {},
   "outputs": [],
   "source": [
    "num_cores = multiprocessing.cpu_count()\n",
    "num_cores"
   ]
  },
  {
   "cell_type": "code",
   "execution_count": null,
   "metadata": {},
   "outputs": [],
   "source": [
    "def addition(n):\n",
    "    return n + n\n",
    "  \n",
    "# We double all numbers using map()\n",
    "numbers = [1, 2, 3, 4]\n",
    "result = map(addition, numbers)\n",
    "\n",
    "print(list(result))"
   ]
  },
  {
   "cell_type": "code",
   "execution_count": null,
   "metadata": {},
   "outputs": [],
   "source": [
    "\n",
    "\n",
    "if __name__ == '__main__':\n",
    "\n",
    "\t# multiprocessing pool object\n",
    "\tpool = multiprocessing.Pool()\n",
    "\n",
    "\t# pool object with number of element\n",
    "\tpool = multiprocessing.Pool(processes=5)\n",
    "\n",
    "\t# input list\n",
    "\t#inputs = list(range(10000))\n",
    "\n",
    "\t# map the function to the list and pass\n",
    "\t# function and input list as arguments\n",
    "\toutputs = pool.map(fetch_url, T.Link[0:10])\n",
    "\n",
    "\t# Print input list\n",
    "#\tprint(\"Input: {}\".format(T.Link[0:10]))\n",
    "\n",
    "\t# Print output list\n",
    "#\tprint(\"Output: {}\".format(outputs))\n"
   ]
  },
  {
   "cell_type": "code",
   "execution_count": null,
   "metadata": {},
   "outputs": [],
   "source": [
    "from multiprocessing import Pool\n"
   ]
  },
  {
   "cell_type": "code",
   "execution_count": null,
   "metadata": {},
   "outputs": [],
   "source": [
    "def f(x):\n",
    "    return x*x\n",
    "\n",
    "\n",
    "with Pool(5) as p:\n",
    "        print(p.map(f, [1, 2, 3,4,7]))"
   ]
  },
  {
   "cell_type": "code",
   "execution_count": null,
   "metadata": {},
   "outputs": [],
   "source": []
  },
  {
   "cell_type": "code",
   "execution_count": null,
   "metadata": {},
   "outputs": [],
   "source": []
  },
  {
   "cell_type": "code",
   "execution_count": null,
   "metadata": {},
   "outputs": [],
   "source": [
    "from multiprocessing import Process\n",
    "\n",
    "def f(name):\n",
    "    print('hello', name)\n",
    "\n",
    "if __name__ == '__main__':\n",
    "    p = Process(target=f, args=('bob',))\n",
    "    p.start()\n",
    "    p.join()"
   ]
  },
  {
   "cell_type": "code",
   "execution_count": null,
   "metadata": {},
   "outputs": [],
   "source": []
  },
  {
   "cell_type": "code",
   "execution_count": null,
   "metadata": {},
   "outputs": [],
   "source": []
  },
  {
   "cell_type": "markdown",
   "metadata": {},
   "source": [
    "# importing the multiprocessing module\n",
    "import multiprocessing\n",
    "import os\n",
    "\n",
    "def worker1():\n",
    "    print(\"Worker 1\")\n",
    "    print(\"ID of process running worker1: {}\".format(os.getpid()))\n",
    "\n",
    "def worker2():\n",
    "    print(\"Worker 2\")\n",
    "    print(\"ID of process running worker2: {}\".format(os.getpid()))\n",
    "\n",
    "if __name__ == \"__main__\":\n",
    "    print(\"ID of main process: {}\".format(os.getpid()))\n",
    "\n",
    "    p1 = multiprocessing.Process(target=worker1)\n",
    "    p2 = multiprocessing.Process(target=worker2)\n",
    "    p1.start()\n",
    "    p2.start()\n",
    "    print(\"ID of process p1: {}\".format(p1.pid))\n",
    "    print(\"ID of process p2: {}\".format(p2.pid))\n",
    "\n",
    "    # wait until processes are finished\n",
    "    p1.join()\n",
    "    p2.join()\n",
    "\n",
    "    # both processes finished\n",
    "    print(\"Both processes finished execution!\")\n",
    "\n",
    "    print(\"Process p1 is alive: {}\".format(p1.is_alive()))\n",
    "    print(\"Process p2 is alive: {}\".format(p2.is_alive()))\n"
   ]
  },
  {
   "cell_type": "code",
   "execution_count": null,
   "metadata": {},
   "outputs": [],
   "source": [
    "T.Link"
   ]
  },
  {
   "cell_type": "code",
   "execution_count": null,
   "metadata": {},
   "outputs": [],
   "source": []
  },
  {
   "cell_type": "code",
   "execution_count": null,
   "metadata": {},
   "outputs": [],
   "source": []
  },
  {
   "cell_type": "code",
   "execution_count": null,
   "metadata": {},
   "outputs": [],
   "source": [
    "T.Link[0]"
   ]
  },
  {
   "cell_type": "code",
   "execution_count": null,
   "metadata": {},
   "outputs": [],
   "source": [
    "Parsing1(T.Link[0])"
   ]
  },
  {
   "cell_type": "markdown",
   "metadata": {},
   "source": [
    "### Cleaning Certain rows and renaming column as follows"
   ]
  },
  {
   "cell_type": "code",
   "execution_count": null,
   "metadata": {},
   "outputs": [],
   "source": [
    "table.rename(columns = table.iloc[2],inplace=True)\n",
    "table = table.drop(labels=[0,1,2],axis = 0)\n",
    "table.head()"
   ]
  },
  {
   "cell_type": "code",
   "execution_count": null,
   "metadata": {
    "colab": {
     "base_uri": "https://localhost:8080/"
    },
    "id": "i0t2Bj3CTrCE",
    "outputId": "b34cbde2-c253-4ff7-cc03-7c143e0a7394"
   },
   "outputs": [],
   "source": []
  },
  {
   "cell_type": "code",
   "execution_count": null,
   "metadata": {},
   "outputs": [],
   "source": [
    "table"
   ]
  },
  {
   "cell_type": "code",
   "execution_count": null,
   "metadata": {},
   "outputs": [],
   "source": []
  },
  {
   "cell_type": "code",
   "execution_count": null,
   "metadata": {},
   "outputs": [],
   "source": []
  },
  {
   "cell_type": "code",
   "execution_count": null,
   "metadata": {
    "colab": {
     "base_uri": "https://localhost:8080/"
    },
    "id": "jKvcvrU5TuFN",
    "outputId": "cf7400ca-f7fe-4de8-8aa6-c4bd854e9909"
   },
   "outputs": [],
   "source": [
    "\n",
    "Page = requests.get(URL1)\n",
    "soup = BS(Page.content,'html.parser')\n",
    "soup"
   ]
  },
  {
   "cell_type": "code",
   "execution_count": null,
   "metadata": {
    "colab": {
     "base_uri": "https://localhost:8080/"
    },
    "id": "VzhYGJm3V7OE",
    "outputId": "a4d5d0e9-a510-4cec-faaa-56e563a89317"
   },
   "outputs": [],
   "source": [
    "Table  = soup.find('table',{\"class\":\"myTable\"})\n",
    "Table"
   ]
  },
  {
   "cell_type": "code",
   "execution_count": null,
   "metadata": {
    "id": "vN9FpdsPWWBa"
   },
   "outputs": [],
   "source": [
    "Table_Data = []\n",
    "for row in Table.find_all('tr'):\n",
    "    tmp = []\n",
    "    column = row.find_all('td')\n",
    "    for index in range(len(column)):\n",
    "        tmp.append(column[index].text.strip())\n",
    "    Table_Data.append(tmp)\n",
    "    #print(len(column))"
   ]
  },
  {
   "cell_type": "code",
   "execution_count": null,
   "metadata": {
    "id": "_601l5xrUIn8"
   },
   "outputs": [],
   "source": [
    "X = pd.DataFrame(Table_Data)"
   ]
  },
  {
   "cell_type": "code",
   "execution_count": null,
   "metadata": {
    "id": "o-DjvtD4XXoV"
   },
   "outputs": [],
   "source": [
    "columnName = X.iloc[2]"
   ]
  },
  {
   "cell_type": "code",
   "execution_count": null,
   "metadata": {
    "colab": {
     "base_uri": "https://localhost:8080/"
    },
    "id": "xphhTc0NY2cG",
    "outputId": "4a9cf8c0-1282-4e3f-830d-c35c98aef3d2"
   },
   "outputs": [],
   "source": [
    "columnName"
   ]
  },
  {
   "cell_type": "code",
   "execution_count": null,
   "metadata": {
    "colab": {
     "base_uri": "https://localhost:8080/"
    },
    "id": "EM-W2zq_Y_1a",
    "outputId": "ecec48df-7612-4c3d-bbbe-837eab665109"
   },
   "outputs": [],
   "source": [
    "print(X)\n",
    "columnName = X.iloc[2]\n",
    "Y = X.drop(X.iloc[0:2])"
   ]
  },
  {
   "cell_type": "code",
   "execution_count": null,
   "metadata": {
    "colab": {
     "base_uri": "https://localhost:8080/"
    },
    "id": "awUCpt7XZFOz",
    "outputId": "d95c9e5d-8689-40b3-d142-80131f3a2ac6"
   },
   "outputs": [],
   "source": [
    "X.columns"
   ]
  },
  {
   "cell_type": "code",
   "execution_count": null,
   "metadata": {
    "colab": {
     "base_uri": "https://localhost:8080/"
    },
    "id": "RehYyBW4ZaPR",
    "outputId": "54e3783e-f82b-48a7-9fcd-37f86642b5f1"
   },
   "outputs": [],
   "source": [
    "X.columns"
   ]
  },
  {
   "cell_type": "code",
   "execution_count": null,
   "metadata": {
    "colab": {
     "base_uri": "https://localhost:8080/"
    },
    "id": "zkzvIiRiZ4Kb",
    "outputId": "636c8751-7404-4b07-fab4-f11d62054894"
   },
   "outputs": [],
   "source": [
    "X[2]"
   ]
  },
  {
   "cell_type": "code",
   "execution_count": null,
   "metadata": {
    "id": "e_myTz_pZ9jJ"
   },
   "outputs": [],
   "source": [
    "ISSN = X[2]"
   ]
  },
  {
   "cell_type": "code",
   "execution_count": null,
   "metadata": {
    "colab": {
     "base_uri": "https://localhost:8080/"
    },
    "id": "WclVRIalaQVB",
    "outputId": "7ac87213-3fc0-4486-c0be-06b5d3bd3bd1"
   },
   "outputs": [],
   "source": [
    "ISSN = [i.split('\\n')[0] for i in ISSN[2:]]\n",
    "ISSN"
   ]
  },
  {
   "cell_type": "code",
   "execution_count": null,
   "metadata": {
    "colab": {
     "base_uri": "https://localhost:8080/"
    },
    "id": "wNUKTSVeaYqL",
    "outputId": "e0efa28d-4061-4262-f0bb-5cf5cb76ab7f"
   },
   "outputs": [],
   "source": [
    "for i in ISSN[3:10]:\n",
    "  print(i.split('\\n')[0])"
   ]
  },
  {
   "cell_type": "code",
   "execution_count": null,
   "metadata": {
    "colab": {
     "base_uri": "https://localhost:8080/",
     "height": 35
    },
    "id": "CzKvEzbHaq3l",
    "outputId": "1a71c096-94a8-4ab2-9073-f8e1d7400238"
   },
   "outputs": [],
   "source": [
    "ISSN[10].split('\\n')[0]"
   ]
  },
  {
   "cell_type": "code",
   "execution_count": null,
   "metadata": {
    "id": "yT62dsIkbCUO"
   },
   "outputs": [],
   "source": [
    "from multiprocessing import Pool\n",
    "import work_log\n",
    "\n",
    "\n",
    "work = ([\"A\", 5], [\"B\", 2], [\"C\", 1], [\"D\", 3])\n",
    "\n",
    "\n",
    "\n",
    "\n",
    "def pool_handler():\n",
    "    p = Pool(2)\n",
    "    p.map(work_log.work_log, work)\n",
    "\n",
    "\n",
    "\n",
    "if __name__ == '__main__':\n",
    "    pool_handler()"
   ]
  },
  {
   "cell_type": "code",
   "execution_count": 36,
   "metadata": {},
   "outputs": [],
   "source": [
    "import annauniv as A\n",
    "from multiprocessing import Pool\n",
    "import pandas as pd\n",
    "import numpy as np"
   ]
  },
  {
   "cell_type": "code",
   "execution_count": 24,
   "metadata": {},
   "outputs": [],
   "source": [
    "T2= A.WS()"
   ]
  },
  {
   "cell_type": "code",
   "execution_count": 35,
   "metadata": {},
   "outputs": [
    {
     "ename": "NameError",
     "evalue": "name 'URL2' is not defined",
     "output_type": "error",
     "traceback": [
      "\u001b[1;31m---------------------------------------------------------------------------\u001b[0m",
      "\u001b[1;31mNameError\u001b[0m                                 Traceback (most recent call last)",
      "\u001b[1;32m<ipython-input-35-8181db77dae4>\u001b[0m in \u001b[0;36m<module>\u001b[1;34m\u001b[0m\n\u001b[1;32m----> 1\u001b[1;33m \u001b[0mT2\u001b[0m \u001b[1;33m=\u001b[0m \u001b[0mA\u001b[0m\u001b[1;33m.\u001b[0m\u001b[0mWS\u001b[0m\u001b[1;33m(\u001b[0m\u001b[0mURL2\u001b[0m\u001b[1;33m)\u001b[0m\u001b[1;33m\u001b[0m\u001b[1;33m\u001b[0m\u001b[0m\n\u001b[0m\u001b[0;32m      2\u001b[0m \u001b[0mtable\u001b[0m \u001b[1;33m=\u001b[0m \u001b[0mT\u001b[0m\u001b[1;33m.\u001b[0m\u001b[0mParsing\u001b[0m\u001b[1;33m(\u001b[0m\u001b[1;33m)\u001b[0m\u001b[1;33m\u001b[0m\u001b[1;33m\u001b[0m\u001b[0m\n",
      "\u001b[1;31mNameError\u001b[0m: name 'URL2' is not defined"
     ]
    }
   ],
   "source": [
    "T2 = A.WS(URL2)\n",
    "table = T.Parsing()"
   ]
  },
  {
   "cell_type": "code",
   "execution_count": null,
   "metadata": {},
   "outputs": [],
   "source": [
    "T.clean()\n",
    "T.extraction()"
   ]
  },
  {
   "cell_type": "code",
   "execution_count": null,
   "metadata": {},
   "outputs": [],
   "source": [
    "T.Table_Data"
   ]
  },
  {
   "cell_type": "code",
   "execution_count": 4,
   "metadata": {},
   "outputs": [],
   "source": [
    "def pool_handler(fun,arg):\n",
    "    #print(arg)\n",
    "    p = Pool(processes = int(T.num_cores/2))\n",
    "    output = p.map(fun, enumerate(arg))\n",
    "    return output\n"
   ]
  },
  {
   "cell_type": "code",
   "execution_count": null,
   "metadata": {},
   "outputs": [],
   "source": [
    "T.Links = pool_handler(T.Link_Parsing,T.Link)\n",
    "#T.Scope = pool_handler(T.Scope_Parsing,T.Links)\n"
   ]
  },
  {
   "cell_type": "code",
   "execution_count": null,
   "metadata": {},
   "outputs": [],
   "source": [
    "T.Links.count(None)"
   ]
  },
  {
   "cell_type": "code",
   "execution_count": null,
   "metadata": {},
   "outputs": [],
   "source": [
    "T.Table_Data['Links'] = T.Links\n"
   ]
  },
  {
   "cell_type": "code",
   "execution_count": 25,
   "metadata": {},
   "outputs": [
    {
     "ename": "AttributeError",
     "evalue": "'WS' object has no attribute 'Table_Data'",
     "output_type": "error",
     "traceback": [
      "\u001b[1;31m---------------------------------------------------------------------------\u001b[0m",
      "\u001b[1;31mAttributeError\u001b[0m                            Traceback (most recent call last)",
      "\u001b[1;32m<ipython-input-25-35e6ff273736>\u001b[0m in \u001b[0;36m<module>\u001b[1;34m\u001b[0m\n\u001b[1;32m----> 1\u001b[1;33m \u001b[0mT2\u001b[0m\u001b[1;33m.\u001b[0m\u001b[0mTable_Data\u001b[0m\u001b[1;33m.\u001b[0m\u001b[0mto_json\u001b[0m\u001b[1;33m(\u001b[0m\u001b[1;34m'List_of_Journals_Links_Annexture2.json'\u001b[0m\u001b[1;33m)\u001b[0m\u001b[1;33m\u001b[0m\u001b[1;33m\u001b[0m\u001b[0m\n\u001b[0m",
      "\u001b[1;31mAttributeError\u001b[0m: 'WS' object has no attribute 'Table_Data'"
     ]
    }
   ],
   "source": [
    "T2.Table_Data.to_json('List_of_Journals_Links_Annexture2.json')"
   ]
  },
  {
   "cell_type": "code",
   "execution_count": null,
   "metadata": {},
   "outputs": [],
   "source": [
    "T.Table_Data['Links'].count(None)"
   ]
  },
  {
   "cell_type": "code",
   "execution_count": null,
   "metadata": {},
   "outputs": [],
   "source": [
    "T.Table_Data['Links'].isna().sum()"
   ]
  },
  {
   "cell_type": "code",
   "execution_count": 37,
   "metadata": {},
   "outputs": [
    {
     "data": {
      "text/plain": [
       "279"
      ]
     },
     "execution_count": 37,
     "metadata": {},
     "output_type": "execute_result"
    }
   ],
   "source": [
    "T2.Table_Data = pd.read_json(\"List_of_Journals_Links_Annexture2.json\")\n",
    "\n",
    "T2.Table_Data[\"Links\"].isna().sum()\n",
    "\n",
    "\n",
    "\n",
    "\n",
    "\n",
    "\n"
   ]
  },
  {
   "cell_type": "code",
   "execution_count": 41,
   "metadata": {},
   "outputs": [],
   "source": [
    "Missing_Links = T2.Missing_Link()"
   ]
  },
  {
   "cell_type": "code",
   "execution_count": 42,
   "metadata": {},
   "outputs": [],
   "source": [
    "T2.Links = pool_handler(T2.Link_Parsing,Missing_Links)"
   ]
  },
  {
   "cell_type": "code",
   "execution_count": 45,
   "metadata": {
    "scrolled": true
   },
   "outputs": [],
   "source": [
    "T.Links = T2.Links.copy()"
   ]
  },
  {
   "cell_type": "code",
   "execution_count": 31,
   "metadata": {},
   "outputs": [],
   "source": [
    "T2.Missing_Index  = T.Missing_Index.copy()"
   ]
  },
  {
   "cell_type": "code",
   "execution_count": 46,
   "metadata": {},
   "outputs": [
    {
     "ename": "AttributeError",
     "evalue": "'Int64Index' object has no attribute 'index'",
     "output_type": "error",
     "traceback": [
      "\u001b[1;31m---------------------------------------------------------------------------\u001b[0m",
      "\u001b[1;31mAttributeError\u001b[0m                            Traceback (most recent call last)",
      "\u001b[1;32m<ipython-input-46-f2dfacd0bdb1>\u001b[0m in \u001b[0;36m<module>\u001b[1;34m\u001b[0m\n\u001b[1;32m----> 1\u001b[1;33m \u001b[0mT2\u001b[0m\u001b[1;33m.\u001b[0m\u001b[0mattach_link\u001b[0m\u001b[1;33m(\u001b[0m\u001b[0mT2\u001b[0m\u001b[1;33m.\u001b[0m\u001b[0mLinks\u001b[0m\u001b[1;33m)\u001b[0m\u001b[1;33m\u001b[0m\u001b[1;33m\u001b[0m\u001b[0m\n\u001b[0m",
      "\u001b[1;32mE:\\PHD\\Codes\\JournalFinder\\Annauniv_Journal_Finder\\annauniv.py\u001b[0m in \u001b[0;36mattach_link\u001b[1;34m(self, Missing_Link)\u001b[0m\n\u001b[0;32m     73\u001b[0m         \u001b[1;32mreturn\u001b[0m \u001b[1;33m[\u001b[0m\u001b[0mself\u001b[0m\u001b[1;33m.\u001b[0m\u001b[0mURL\u001b[0m\u001b[1;33m+\u001b[0m\u001b[0mself\u001b[0m\u001b[1;33m.\u001b[0m\u001b[0mTable_Data\u001b[0m\u001b[1;33m[\u001b[0m\u001b[1;34m\"ISSN\"\u001b[0m\u001b[1;33m]\u001b[0m\u001b[1;33m[\u001b[0m\u001b[0mi\u001b[0m\u001b[1;33m]\u001b[0m  \u001b[1;32mfor\u001b[0m \u001b[0mi\u001b[0m \u001b[1;32min\u001b[0m \u001b[0mself\u001b[0m\u001b[1;33m.\u001b[0m\u001b[0mMissing_Index\u001b[0m\u001b[1;33m]\u001b[0m\u001b[1;33m\u001b[0m\u001b[1;33m\u001b[0m\u001b[0m\n\u001b[0;32m     74\u001b[0m     \u001b[1;32mdef\u001b[0m \u001b[0mattach_link\u001b[0m\u001b[1;33m(\u001b[0m\u001b[0mself\u001b[0m\u001b[1;33m,\u001b[0m\u001b[0mMissing_Link\u001b[0m\u001b[1;33m)\u001b[0m\u001b[1;33m:\u001b[0m\u001b[1;33m\u001b[0m\u001b[1;33m\u001b[0m\u001b[0m\n\u001b[1;32m---> 75\u001b[1;33m         \u001b[0mMissing_Link\u001b[0m \u001b[1;33m=\u001b[0m \u001b[0mpd\u001b[0m\u001b[1;33m.\u001b[0m\u001b[0mDataFrame\u001b[0m\u001b[1;33m(\u001b[0m\u001b[0mMissing_Link\u001b[0m\u001b[1;33m,\u001b[0m \u001b[0mindex\u001b[0m \u001b[1;33m=\u001b[0m \u001b[0mself\u001b[0m\u001b[1;33m.\u001b[0m\u001b[0mMissing_Index\u001b[0m\u001b[1;33m,\u001b[0m\u001b[0mcolumns\u001b[0m \u001b[1;33m=\u001b[0m \u001b[1;33m[\u001b[0m\u001b[1;34m\"Links\"\u001b[0m\u001b[1;33m]\u001b[0m\u001b[1;33m)\u001b[0m\u001b[1;33m\u001b[0m\u001b[1;33m\u001b[0m\u001b[0m\n\u001b[0m\u001b[0;32m     76\u001b[0m         \u001b[1;32mfor\u001b[0m \u001b[0mindex\u001b[0m \u001b[1;32min\u001b[0m \u001b[0mMissing_Link\u001b[0m\u001b[1;33m.\u001b[0m\u001b[0mindex\u001b[0m\u001b[1;33m:\u001b[0m\u001b[1;33m\u001b[0m\u001b[1;33m\u001b[0m\u001b[0m\n\u001b[0;32m     77\u001b[0m             \u001b[1;32mif\u001b[0m \u001b[0mMissing_Link\u001b[0m\u001b[1;33m.\u001b[0m\u001b[0mloc\u001b[0m\u001b[1;33m[\u001b[0m\u001b[0mindex\u001b[0m\u001b[1;33m]\u001b[0m\u001b[1;33m.\u001b[0m\u001b[0mvalues\u001b[0m \u001b[1;33m==\u001b[0m \u001b[1;32mNone\u001b[0m\u001b[1;33m:\u001b[0m\u001b[1;33m\u001b[0m\u001b[1;33m\u001b[0m\u001b[0m\n",
      "\u001b[1;31mAttributeError\u001b[0m: 'Int64Index' object has no attribute 'index'"
     ]
    }
   ],
   "source": [
    "T2.attach_link(T2.Links)"
   ]
  },
  {
   "cell_type": "markdown",
   "metadata": {},
   "source": [
    " "
   ]
  },
  {
   "cell_type": "code",
   "execution_count": 51,
   "metadata": {},
   "outputs": [
    {
     "data": {
      "text/plain": [
       "[None,\n",
       " None,\n",
       " None,\n",
       " None,\n",
       " None,\n",
       " None,\n",
       " None,\n",
       " None,\n",
       " None,\n",
       " None,\n",
       " None,\n",
       " None,\n",
       " None,\n",
       " 'https://www.scimagojr.com/journalsearch.php?q=19143&tip=sid&clean=0',\n",
       " None,\n",
       " None,\n",
       " None,\n",
       " None,\n",
       " None,\n",
       " None,\n",
       " None,\n",
       " None,\n",
       " None,\n",
       " None,\n",
       " None,\n",
       " None,\n",
       " None,\n",
       " None,\n",
       " None,\n",
       " None,\n",
       " None,\n",
       " 'https://www.scimagojr.com/journalsearch.php?q=5800207714&tip=sid&clean=0',\n",
       " None,\n",
       " None,\n",
       " None,\n",
       " None,\n",
       " None,\n",
       " None,\n",
       " None,\n",
       " None,\n",
       " None,\n",
       " None,\n",
       " None,\n",
       " None,\n",
       " None,\n",
       " None,\n",
       " None,\n",
       " None,\n",
       " None,\n",
       " None,\n",
       " None,\n",
       " None,\n",
       " None,\n",
       " None,\n",
       " None,\n",
       " None,\n",
       " None,\n",
       " None,\n",
       " None,\n",
       " None,\n",
       " None,\n",
       " None,\n",
       " None,\n",
       " None,\n",
       " None,\n",
       " None,\n",
       " None,\n",
       " None,\n",
       " None,\n",
       " None,\n",
       " None,\n",
       " None,\n",
       " None,\n",
       " None,\n",
       " None,\n",
       " None,\n",
       " None,\n",
       " None,\n",
       " None,\n",
       " 'https://www.scimagojr.com/journalsearch.php?q=12212&tip=sid&clean=0',\n",
       " 'https://www.scimagojr.com/journalsearch.php?q=9500154109&tip=sid&clean=0',\n",
       " 'https://www.scimagojr.com/journalsearch.php?q=21272&tip=sid&clean=0',\n",
       " 'https://www.scimagojr.com/journalsearch.php?q=22543&tip=sid&clean=0',\n",
       " 'https://www.scimagojr.com/journalsearch.php?q=23871&tip=sid&clean=0',\n",
       " 'https://www.scimagojr.com/journalsearch.php?q=24703&tip=sid&clean=0',\n",
       " 'https://www.scimagojr.com/journalsearch.php?q=28970&tip=sid&clean=0',\n",
       " 'https://www.scimagojr.com/journalsearch.php?q=19700194016&tip=sid&clean=0',\n",
       " 'https://www.scimagojr.com/journalsearch.php?q=57810&tip=sid&clean=0',\n",
       " 'https://www.scimagojr.com/journalsearch.php?q=12370&tip=sid&clean=0',\n",
       " 'https://www.scimagojr.com/journalsearch.php?q=24856&tip=sid&clean=0',\n",
       " 'https://www.scimagojr.com/journalsearch.php?q=24857&tip=sid&clean=0',\n",
       " 'https://www.scimagojr.com/journalsearch.php?q=25294&tip=sid&clean=0',\n",
       " 'https://www.scimagojr.com/journalsearch.php?q=55811&tip=sid&clean=0',\n",
       " 'https://www.scimagojr.com/journalsearch.php?q=39098&tip=sid&clean=0',\n",
       " 'https://www.scimagojr.com/journalsearch.php?q=32795&tip=sid&clean=0',\n",
       " 'https://www.scimagojr.com/journalsearch.php?q=13581&tip=sid&clean=0',\n",
       " 'https://www.scimagojr.com/journalsearch.php?q=145159&tip=sid&clean=0',\n",
       " 'https://www.scimagojr.com/journalsearch.php?q=19877&tip=sid&clean=0',\n",
       " 'https://www.scimagojr.com/journalsearch.php?q=21100456777&tip=sid&clean=0',\n",
       " 'https://www.scimagojr.com/journalsearch.php?q=19466&tip=sid&clean=0',\n",
       " 'https://www.scimagojr.com/journalsearch.php?q=25684&tip=sid&clean=0',\n",
       " 'https://www.scimagojr.com/journalsearch.php?q=17600155034&tip=sid&clean=0',\n",
       " 'https://www.scimagojr.com/journalsearch.php?q=25686&tip=sid&clean=0',\n",
       " 'https://www.scimagojr.com/journalsearch.php?q=11700154334&tip=sid&clean=0',\n",
       " 'https://www.scimagojr.com/journalsearch.php?q=24859&tip=sid&clean=0',\n",
       " 'https://www.scimagojr.com/journalsearch.php?q=24862&tip=sid&clean=0',\n",
       " 'https://www.scimagojr.com/journalsearch.php?q=24863&tip=sid&clean=0',\n",
       " 'https://www.scimagojr.com/journalsearch.php?q=21100228536&tip=sid&clean=0',\n",
       " 'https://www.scimagojr.com/journalsearch.php?q=14834&tip=sid&clean=0',\n",
       " 'https://www.scimagojr.com/journalsearch.php?q=21100207610&tip=sid&clean=0',\n",
       " 'https://www.scimagojr.com/journalsearch.php?q=14849&tip=sid&clean=0',\n",
       " 'https://www.scimagojr.com/journalsearch.php?q=15104&tip=sid&clean=0',\n",
       " 'https://www.scimagojr.com/journalsearch.php?q=14315&tip=sid&clean=0',\n",
       " None,\n",
       " None,\n",
       " None,\n",
       " None,\n",
       " None,\n",
       " None,\n",
       " None,\n",
       " None,\n",
       " None,\n",
       " None,\n",
       " 'https://www.scimagojr.com/journalsearch.php?q=16732&tip=sid&clean=0',\n",
       " 'https://www.scimagojr.com/journalsearch.php?q=25895&tip=sid&clean=0',\n",
       " 'https://www.scimagojr.com/journalsearch.php?q=12182&tip=sid&clean=0',\n",
       " 'https://www.scimagojr.com/journalsearch.php?q=24642&tip=sid&clean=0',\n",
       " 'https://www.scimagojr.com/journalsearch.php?q=22584&tip=sid&clean=0',\n",
       " 'https://www.scimagojr.com/journalsearch.php?q=17555&tip=sid&clean=0',\n",
       " 'https://www.scimagojr.com/journalsearch.php?q=17557&tip=sid&clean=0',\n",
       " 'https://www.scimagojr.com/journalsearch.php?q=24810&tip=sid&clean=0',\n",
       " 'https://www.scimagojr.com/journalsearch.php?q=5800170566&tip=sid&clean=0',\n",
       " 'https://www.scimagojr.com/journalsearch.php?q=29629&tip=sid&clean=0',\n",
       " 'https://www.scimagojr.com/journalsearch.php?q=30014&tip=sid&clean=0',\n",
       " 'https://www.scimagojr.com/journalsearch.php?q=5400152709&tip=sid&clean=0',\n",
       " 'https://www.scimagojr.com/journalsearch.php?q=30015&tip=sid&clean=0',\n",
       " 'https://www.scimagojr.com/journalsearch.php?q=5600153491&tip=sid&clean=0',\n",
       " 'https://www.scimagojr.com/journalsearch.php?q=23958&tip=sid&clean=0',\n",
       " 'https://www.scimagojr.com/journalsearch.php?q=23947&tip=sid&clean=0',\n",
       " 'https://www.scimagojr.com/journalsearch.php?q=12220&tip=sid&clean=0',\n",
       " 'https://www.scimagojr.com/journalsearch.php?q=16805&tip=sid&clean=0',\n",
       " 'https://www.scimagojr.com/journalsearch.php?q=17600155202&tip=sid&clean=0',\n",
       " 'https://www.scimagojr.com/journalsearch.php?q=16088&tip=sid&clean=0',\n",
       " 'https://www.scimagojr.com/journalsearch.php?q=18500166400&tip=sid&clean=0',\n",
       " 'https://www.scimagojr.com/journalsearch.php?q=4000151616&tip=sid&clean=0',\n",
       " 'https://www.scimagojr.com/journalsearch.php?q=28545&tip=sid&clean=0',\n",
       " 'https://www.scimagojr.com/journalsearch.php?q=9500154104&tip=sid&clean=0',\n",
       " 'https://www.scimagojr.com/journalsearch.php?q=28546&tip=sid&clean=0',\n",
       " 'https://www.scimagojr.com/journalsearch.php?q=130154&tip=sid&clean=0',\n",
       " 'https://www.scimagojr.com/journalsearch.php?q=19400158619&tip=sid&clean=0',\n",
       " 'https://www.scimagojr.com/journalsearch.php?q=29630&tip=sid&clean=0',\n",
       " 'https://www.scimagojr.com/journalsearch.php?q=19700185200&tip=sid&clean=0',\n",
       " 'https://www.scimagojr.com/journalsearch.php?q=23053&tip=sid&clean=0',\n",
       " 'https://www.scimagojr.com/journalsearch.php?q=25659&tip=sid&clean=0',\n",
       " 'https://www.scimagojr.com/journalsearch.php?q=24045&tip=sid&clean=0',\n",
       " 'https://www.scimagojr.com/journalsearch.php?q=22585&tip=sid&clean=0',\n",
       " 'https://www.scimagojr.com/journalsearch.php?q=15831&tip=sid&clean=0',\n",
       " 'https://www.scimagojr.com/journalsearch.php?q=19950&tip=sid&clean=0',\n",
       " 'https://www.scimagojr.com/journalsearch.php?q=16734&tip=sid&clean=0',\n",
       " 'https://www.scimagojr.com/journalsearch.php?q=27277&tip=sid&clean=0',\n",
       " None,\n",
       " None,\n",
       " None,\n",
       " None,\n",
       " None,\n",
       " 'https://www.scimagojr.com/journalsearch.php?q=13787&tip=sid&clean=0',\n",
       " 'https://www.scimagojr.com/journalsearch.php?q=20987&tip=sid&clean=0',\n",
       " 'https://www.scimagojr.com/journalsearch.php?q=28591&tip=sid&clean=0',\n",
       " 'https://www.scimagojr.com/journalsearch.php?q=13690&tip=sid&clean=0',\n",
       " 'https://www.scimagojr.com/journalsearch.php?q=21731&tip=sid&clean=0',\n",
       " 'https://www.scimagojr.com/journalsearch.php?q=21100203304&tip=sid&clean=0',\n",
       " 'https://www.scimagojr.com/journalsearch.php?q=17239&tip=sid&clean=0',\n",
       " 'https://www.scimagojr.com/journalsearch.php?q=6400153137&tip=sid&clean=0',\n",
       " 'https://www.scimagojr.com/journalsearch.php?q=26000&tip=sid&clean=0',\n",
       " 'https://www.scimagojr.com/journalsearch.php?q=23899&tip=sid&clean=0',\n",
       " 'https://www.scimagojr.com/journalsearch.php?q=12140&tip=sid&clean=0',\n",
       " 'https://www.scimagojr.com/journalsearch.php?q=21100274275&tip=sid&clean=0',\n",
       " 'https://www.scimagojr.com/journalsearch.php?q=10700153301&tip=sid&clean=0',\n",
       " 'https://www.scimagojr.com/journalsearch.php?q=24879&tip=sid&clean=0',\n",
       " 'https://www.scimagojr.com/journalsearch.php?q=19900192175&tip=sid&clean=0',\n",
       " 'https://www.scimagojr.com/journalsearch.php?q=21100198447&tip=sid&clean=0',\n",
       " 'https://www.scimagojr.com/journalsearch.php?q=17954&tip=sid&clean=0',\n",
       " 'https://www.scimagojr.com/journalsearch.php?q=130031&tip=sid&clean=0',\n",
       " 'https://www.scimagojr.com/journalsearch.php?q=25149&tip=sid&clean=0',\n",
       " 'https://www.scimagojr.com/journalsearch.php?q=25151&tip=sid&clean=0',\n",
       " 'https://www.scimagojr.com/journalsearch.php?q=25152&tip=sid&clean=0',\n",
       " 'https://www.scimagojr.com/journalsearch.php?q=29664&tip=sid&clean=0',\n",
       " 'https://www.scimagojr.com/journalsearch.php?q=144834&tip=sid&clean=0',\n",
       " 'https://www.scimagojr.com/journalsearch.php?q=28254&tip=sid&clean=0',\n",
       " 'https://www.scimagojr.com/journalsearch.php?q=16440&tip=sid&clean=0',\n",
       " 'https://www.scimagojr.com/journalsearch.php?q=21100310028&tip=sid&clean=0',\n",
       " 'https://www.scimagojr.com/journalsearch.php?q=21100223534&tip=sid&clean=0',\n",
       " 'https://www.scimagojr.com/journalsearch.php?q=18900&tip=sid&clean=0',\n",
       " 'https://www.scimagojr.com/journalsearch.php?q=29295&tip=sid&clean=0',\n",
       " 'https://www.scimagojr.com/journalsearch.php?q=18908&tip=sid&clean=0',\n",
       " 'https://www.scimagojr.com/journalsearch.php?q=19700200834&tip=sid&clean=0',\n",
       " 'https://www.scimagojr.com/journalsearch.php?q=20753&tip=sid&clean=0',\n",
       " 'https://www.scimagojr.com/journalsearch.php?q=21100206251&tip=sid&clean=0',\n",
       " 'https://www.scimagojr.com/journalsearch.php?q=28255&tip=sid&clean=0',\n",
       " 'https://www.scimagojr.com/journalsearch.php?q=12005&tip=sid&clean=0',\n",
       " 'https://www.scimagojr.com/journalsearch.php?q=14812&tip=sid&clean=0',\n",
       " None,\n",
       " None,\n",
       " None,\n",
       " None,\n",
       " None,\n",
       " 'https://www.scimagojr.com/journalsearch.php?q=19700175206&tip=sid&clean=0',\n",
       " 'https://www.scimagojr.com/journalsearch.php?q=18593&tip=sid&clean=0',\n",
       " 'https://www.scimagojr.com/journalsearch.php?q=19034&tip=sid&clean=0',\n",
       " 'https://www.scimagojr.com/journalsearch.php?q=20266&tip=sid&clean=0',\n",
       " 'https://www.scimagojr.com/journalsearch.php?q=22941&tip=sid&clean=0',\n",
       " 'https://www.scimagojr.com/journalsearch.php?q=20267&tip=sid&clean=0',\n",
       " 'https://www.scimagojr.com/journalsearch.php?q=20269&tip=sid&clean=0',\n",
       " 'https://www.scimagojr.com/journalsearch.php?q=20270&tip=sid&clean=0',\n",
       " 'https://www.scimagojr.com/journalsearch.php?q=20278&tip=sid&clean=0',\n",
       " 'https://www.scimagojr.com/journalsearch.php?q=21100258398&tip=sid&clean=0',\n",
       " 'https://www.scimagojr.com/journalsearch.php?q=20268&tip=sid&clean=0',\n",
       " 'https://www.scimagojr.com/journalsearch.php?q=21100401152&tip=sid&clean=0',\n",
       " 'https://www.scimagojr.com/journalsearch.php?q=20922&tip=sid&clean=0',\n",
       " 'https://www.scimagojr.com/journalsearch.php?q=24072&tip=sid&clean=0',\n",
       " 'https://www.scimagojr.com/journalsearch.php?q=19038&tip=sid&clean=0',\n",
       " 'https://www.scimagojr.com/journalsearch.php?q=26696&tip=sid&clean=0',\n",
       " 'https://www.scimagojr.com/journalsearch.php?q=26697&tip=sid&clean=0',\n",
       " 'https://www.scimagojr.com/journalsearch.php?q=24803&tip=sid&clean=0',\n",
       " 'https://www.scimagojr.com/journalsearch.php?q=26717&tip=sid&clean=0',\n",
       " 'https://www.scimagojr.com/journalsearch.php?q=130141&tip=sid&clean=0',\n",
       " 'https://www.scimagojr.com/journalsearch.php?q=34667&tip=sid&clean=0',\n",
       " 'https://www.scimagojr.com/journalsearch.php?q=21100229176&tip=sid&clean=0',\n",
       " 'https://www.scimagojr.com/journalsearch.php?q=110086&tip=sid&clean=0',\n",
       " 'https://www.scimagojr.com/journalsearch.php?q=13961&tip=sid&clean=0',\n",
       " 'https://www.scimagojr.com/journalsearch.php?q=26989&tip=sid&clean=0',\n",
       " 'https://www.scimagojr.com/journalsearch.php?q=15552&tip=sid&clean=0',\n",
       " 'https://www.scimagojr.com/journalsearch.php?q=21100278308&tip=sid&clean=0',\n",
       " 'https://www.scimagojr.com/journalsearch.php?q=20931&tip=sid&clean=0',\n",
       " 'https://www.scimagojr.com/journalsearch.php?q=20920&tip=sid&clean=0',\n",
       " 'https://www.scimagojr.com/journalsearch.php?q=21763&tip=sid&clean=0',\n",
       " 'https://www.scimagojr.com/journalsearch.php?q=26738&tip=sid&clean=0',\n",
       " 'https://www.scimagojr.com/journalsearch.php?q=21100884993&tip=sid&clean=0',\n",
       " 'https://www.scimagojr.com/journalsearch.php?q=23948&tip=sid&clean=0',\n",
       " 'https://www.scimagojr.com/journalsearch.php?q=12250&tip=sid&clean=0',\n",
       " None,\n",
       " None,\n",
       " None,\n",
       " None,\n",
       " None,\n",
       " None,\n",
       " None,\n",
       " None,\n",
       " None,\n",
       " None,\n",
       " None,\n",
       " None,\n",
       " None,\n",
       " None,\n",
       " None,\n",
       " None,\n",
       " None,\n",
       " None,\n",
       " None,\n",
       " None,\n",
       " None,\n",
       " None,\n",
       " None,\n",
       " None,\n",
       " None,\n",
       " None,\n",
       " None,\n",
       " None,\n",
       " None,\n",
       " None,\n",
       " None,\n",
       " None,\n",
       " None,\n",
       " None,\n",
       " None,\n",
       " None,\n",
       " None,\n",
       " None,\n",
       " None]"
      ]
     },
     "execution_count": 51,
     "metadata": {},
     "output_type": "execute_result"
    }
   ],
   "source": [
    "T2.Links"
   ]
  },
  {
   "cell_type": "code",
   "execution_count": 47,
   "metadata": {},
   "outputs": [
    {
     "data": {
      "text/plain": [
       "Int64Index([   71,   149,   394,   398,   446,   454,   542,   777,   797,\n",
       "              798,\n",
       "            ...\n",
       "            10741, 10744, 10871, 10995, 11029, 11035, 11147, 11310, 11381,\n",
       "            11434],\n",
       "           dtype='int64', length=279)"
      ]
     },
     "execution_count": 47,
     "metadata": {},
     "output_type": "execute_result"
    }
   ],
   "source": [
    "T2.Missing_Index"
   ]
  },
  {
   "cell_type": "code",
   "execution_count": 53,
   "metadata": {},
   "outputs": [
    {
     "data": {
      "text/plain": [
       "Int64Index([   71,   149,   394,   398,   446,   454,   542,   777,   797,\n",
       "              798,\n",
       "            ...\n",
       "            10741, 10744, 10871, 10995, 11029, 11035, 11147, 11310, 11381,\n",
       "            11434],\n",
       "           dtype='int64', length=279)"
      ]
     },
     "execution_count": 53,
     "metadata": {},
     "output_type": "execute_result"
    }
   ],
   "source": [
    "#T.Links = pd.DataFrame(T.Links,index = T.Missing_Index, columns = [\"Links\"])\n",
    "T2.Missing_Index"
   ]
  },
  {
   "cell_type": "code",
   "execution_count": 56,
   "metadata": {},
   "outputs": [
    {
     "data": {
      "text/html": [
       "<div>\n",
       "<style scoped>\n",
       "    .dataframe tbody tr th:only-of-type {\n",
       "        vertical-align: middle;\n",
       "    }\n",
       "\n",
       "    .dataframe tbody tr th {\n",
       "        vertical-align: top;\n",
       "    }\n",
       "\n",
       "    .dataframe thead th {\n",
       "        text-align: right;\n",
       "    }\n",
       "</style>\n",
       "<table border=\"1\" class=\"dataframe\">\n",
       "  <thead>\n",
       "    <tr style=\"text-align: right;\">\n",
       "      <th></th>\n",
       "      <th>Links</th>\n",
       "    </tr>\n",
       "  </thead>\n",
       "  <tbody>\n",
       "    <tr>\n",
       "      <td>71</td>\n",
       "      <td>None</td>\n",
       "    </tr>\n",
       "    <tr>\n",
       "      <td>149</td>\n",
       "      <td>None</td>\n",
       "    </tr>\n",
       "    <tr>\n",
       "      <td>394</td>\n",
       "      <td>None</td>\n",
       "    </tr>\n",
       "    <tr>\n",
       "      <td>398</td>\n",
       "      <td>None</td>\n",
       "    </tr>\n",
       "    <tr>\n",
       "      <td>446</td>\n",
       "      <td>None</td>\n",
       "    </tr>\n",
       "    <tr>\n",
       "      <td>...</td>\n",
       "      <td>...</td>\n",
       "    </tr>\n",
       "    <tr>\n",
       "      <td>11035</td>\n",
       "      <td>None</td>\n",
       "    </tr>\n",
       "    <tr>\n",
       "      <td>11147</td>\n",
       "      <td>None</td>\n",
       "    </tr>\n",
       "    <tr>\n",
       "      <td>11310</td>\n",
       "      <td>None</td>\n",
       "    </tr>\n",
       "    <tr>\n",
       "      <td>11381</td>\n",
       "      <td>None</td>\n",
       "    </tr>\n",
       "    <tr>\n",
       "      <td>11434</td>\n",
       "      <td>None</td>\n",
       "    </tr>\n",
       "  </tbody>\n",
       "</table>\n",
       "<p>279 rows × 1 columns</p>\n",
       "</div>"
      ],
      "text/plain": [
       "      Links\n",
       "71     None\n",
       "149    None\n",
       "394    None\n",
       "398    None\n",
       "446    None\n",
       "...     ...\n",
       "11035  None\n",
       "11147  None\n",
       "11310  None\n",
       "11381  None\n",
       "11434  None\n",
       "\n",
       "[279 rows x 1 columns]"
      ]
     },
     "execution_count": 56,
     "metadata": {},
     "output_type": "execute_result"
    }
   ],
   "source": []
  },
  {
   "cell_type": "code",
   "execution_count": 72,
   "metadata": {},
   "outputs": [
    {
     "name": "stdout",
     "output_type": "stream",
     "text": [
      "None\n",
      "None\n",
      "None\n",
      "None\n",
      "None\n",
      "None\n",
      "None\n",
      "None\n",
      "None\n",
      "None\n",
      "None\n",
      "None\n",
      "None\n",
      "None\n",
      "None\n",
      "None\n",
      "None\n",
      "None\n",
      "None\n",
      "None\n",
      "None\n",
      "None\n",
      "None\n",
      "None\n",
      "None\n",
      "None\n",
      "None\n",
      "None\n",
      "None\n",
      "None\n",
      "None\n",
      "None\n",
      "None\n",
      "None\n",
      "None\n",
      "None\n",
      "None\n",
      "None\n",
      "None\n",
      "None\n",
      "None\n",
      "None\n",
      "None\n",
      "None\n",
      "None\n",
      "None\n",
      "None\n",
      "None\n",
      "None\n",
      "None\n",
      "None\n",
      "None\n",
      "None\n",
      "None\n",
      "None\n",
      "None\n",
      "None\n",
      "None\n",
      "None\n",
      "None\n",
      "None\n",
      "None\n",
      "None\n",
      "None\n",
      "None\n",
      "None\n",
      "None\n",
      "None\n",
      "None\n",
      "None\n",
      "None\n",
      "None\n",
      "None\n",
      "None\n",
      "None\n",
      "None\n",
      "None\n",
      "None\n",
      "None\n",
      "None\n",
      "None\n",
      "None\n",
      "None\n",
      "None\n",
      "None\n",
      "None\n",
      "None\n",
      "None\n",
      "None\n",
      "None\n",
      "None\n",
      "None\n",
      "None\n",
      "None\n",
      "None\n",
      "None\n",
      "None\n",
      "None\n",
      "None\n",
      "None\n",
      "None\n",
      "None\n",
      "None\n",
      "None\n",
      "None\n",
      "None\n",
      "None\n",
      "None\n",
      "None\n",
      "None\n",
      "None\n",
      "None\n",
      "None\n",
      "None\n",
      "None\n",
      "None\n",
      "None\n",
      "None\n",
      "None\n",
      "None\n",
      "None\n",
      "None\n",
      "None\n",
      "None\n",
      "None\n",
      "None\n",
      "None\n",
      "None\n",
      "None\n",
      "None\n",
      "None\n",
      "None\n",
      "None\n",
      "None\n",
      "None\n",
      "None\n"
     ]
    },
    {
     "name": "stderr",
     "output_type": "stream",
     "text": [
      "D:\\Anaconda\\lib\\site-packages\\ipykernel_launcher.py:8: SettingWithCopyWarning: \n",
      "A value is trying to be set on a copy of a slice from a DataFrame\n",
      "\n",
      "See the caveats in the documentation: http://pandas.pydata.org/pandas-docs/stable/user_guide/indexing.html#returning-a-view-versus-a-copy\n",
      "  \n"
     ]
    }
   ],
   "source": [
    "Missing_Link = pd.DataFrame(T2.Links,index = T2.Missing_Index,columns=[\"Links\"])\n",
    "#for index in Missing_Link[\"Links\"]:\n",
    "#   print(index)\n",
    "for index in Missing_Link.index:\n",
    "    if Missing_Link.loc[index].values == None:\n",
    "                            print('None')\n",
    "    else:\n",
    "                            T2.Table_Data[\"Links\"][index] = Missing_Link.loc[index].values"
   ]
  },
  {
   "cell_type": "code",
   "execution_count": 74,
   "metadata": {},
   "outputs": [],
   "source": [
    "T2.Table_Data[\"Links\"].isna().sum()\n",
    "T2.Table_Data.to_json(\"List_of_Journals_Links_Annexture2.json\")"
   ]
  },
  {
   "cell_type": "code",
   "execution_count": null,
   "metadata": {},
   "outputs": [],
   "source": [
    "Missing_Index = T.Table_Data[\"Links\"].index[T.Table_Data[\"Links\"].isna()]\n",
    "for index in Missing_Link[\"Links\"]:\n",
    "            if Missing_Link.loc[index].values == None:\n",
    "                                    print('None')\n",
    "            else:\n",
    "                                    self.Table_Data[\"Links\"][index] = Missing_Link.loc[index].values"
   ]
  },
  {
   "cell_type": "code",
   "execution_count": 65,
   "metadata": {},
   "outputs": [
    {
     "ename": "KeyError",
     "evalue": "None",
     "output_type": "error",
     "traceback": [
      "\u001b[1;31m---------------------------------------------------------------------------\u001b[0m",
      "\u001b[1;31mKeyError\u001b[0m                                  Traceback (most recent call last)",
      "\u001b[1;32mD:\\Anaconda\\lib\\site-packages\\pandas\\core\\indexes\\base.py\u001b[0m in \u001b[0;36mget_loc\u001b[1;34m(self, key, method, tolerance)\u001b[0m\n\u001b[0;32m   2896\u001b[0m             \u001b[1;32mtry\u001b[0m\u001b[1;33m:\u001b[0m\u001b[1;33m\u001b[0m\u001b[1;33m\u001b[0m\u001b[0m\n\u001b[1;32m-> 2897\u001b[1;33m                 \u001b[1;32mreturn\u001b[0m \u001b[0mself\u001b[0m\u001b[1;33m.\u001b[0m\u001b[0m_engine\u001b[0m\u001b[1;33m.\u001b[0m\u001b[0mget_loc\u001b[0m\u001b[1;33m(\u001b[0m\u001b[0mkey\u001b[0m\u001b[1;33m)\u001b[0m\u001b[1;33m\u001b[0m\u001b[1;33m\u001b[0m\u001b[0m\n\u001b[0m\u001b[0;32m   2898\u001b[0m             \u001b[1;32mexcept\u001b[0m \u001b[0mKeyError\u001b[0m\u001b[1;33m:\u001b[0m\u001b[1;33m\u001b[0m\u001b[1;33m\u001b[0m\u001b[0m\n",
      "\u001b[1;32mpandas\\_libs\\index.pyx\u001b[0m in \u001b[0;36mpandas._libs.index.IndexEngine.get_loc\u001b[1;34m()\u001b[0m\n",
      "\u001b[1;32mpandas\\_libs\\index.pyx\u001b[0m in \u001b[0;36mpandas._libs.index.IndexEngine.get_loc\u001b[1;34m()\u001b[0m\n",
      "\u001b[1;32mpandas\\_libs\\index_class_helper.pxi\u001b[0m in \u001b[0;36mpandas._libs.index.Int64Engine._check_type\u001b[1;34m()\u001b[0m\n",
      "\u001b[1;31mKeyError\u001b[0m: None",
      "\nDuring handling of the above exception, another exception occurred:\n",
      "\u001b[1;31mKeyError\u001b[0m                                  Traceback (most recent call last)",
      "\u001b[1;32m<ipython-input-65-cbafda0a9d77>\u001b[0m in \u001b[0;36m<module>\u001b[1;34m\u001b[0m\n\u001b[0;32m      1\u001b[0m \u001b[0mMissing_Link\u001b[0m \u001b[1;33m=\u001b[0m \u001b[0mpd\u001b[0m\u001b[1;33m.\u001b[0m\u001b[0mDataFrame\u001b[0m\u001b[1;33m(\u001b[0m\u001b[0mMissing_Link\u001b[0m\u001b[1;33m,\u001b[0m \u001b[0mindex\u001b[0m \u001b[1;33m=\u001b[0m \u001b[0mT2\u001b[0m\u001b[1;33m.\u001b[0m\u001b[0mMissing_Index\u001b[0m\u001b[1;33m,\u001b[0m\u001b[0mcolumns\u001b[0m \u001b[1;33m=\u001b[0m \u001b[1;33m[\u001b[0m\u001b[1;34m\"Links\"\u001b[0m\u001b[1;33m]\u001b[0m\u001b[1;33m)\u001b[0m\u001b[1;33m\u001b[0m\u001b[1;33m\u001b[0m\u001b[0m\n\u001b[0;32m      2\u001b[0m \u001b[1;32mfor\u001b[0m \u001b[0mindex\u001b[0m \u001b[1;32min\u001b[0m \u001b[0mMissing_Link\u001b[0m\u001b[1;33m[\u001b[0m\u001b[1;34m\"Links\"\u001b[0m\u001b[1;33m]\u001b[0m\u001b[1;33m:\u001b[0m\u001b[1;33m\u001b[0m\u001b[1;33m\u001b[0m\u001b[0m\n\u001b[1;32m----> 3\u001b[1;33m     \u001b[1;32mif\u001b[0m \u001b[0mMissing_Link\u001b[0m\u001b[1;33m.\u001b[0m\u001b[0mloc\u001b[0m\u001b[1;33m[\u001b[0m\u001b[0mindex\u001b[0m\u001b[1;33m]\u001b[0m\u001b[1;33m.\u001b[0m\u001b[0mvalues\u001b[0m \u001b[1;33m==\u001b[0m \u001b[1;32mNone\u001b[0m\u001b[1;33m:\u001b[0m\u001b[1;33m\u001b[0m\u001b[1;33m\u001b[0m\u001b[0m\n\u001b[0m\u001b[0;32m      4\u001b[0m                             \u001b[0mprint\u001b[0m\u001b[1;33m(\u001b[0m\u001b[1;34m'None'\u001b[0m\u001b[1;33m)\u001b[0m\u001b[1;33m\u001b[0m\u001b[1;33m\u001b[0m\u001b[0m\n\u001b[0;32m      5\u001b[0m     \u001b[1;32melse\u001b[0m\u001b[1;33m:\u001b[0m\u001b[1;33m\u001b[0m\u001b[1;33m\u001b[0m\u001b[0m\n",
      "\u001b[1;32mD:\\Anaconda\\lib\\site-packages\\pandas\\core\\indexing.py\u001b[0m in \u001b[0;36m__getitem__\u001b[1;34m(self, key)\u001b[0m\n\u001b[0;32m   1422\u001b[0m \u001b[1;33m\u001b[0m\u001b[0m\n\u001b[0;32m   1423\u001b[0m             \u001b[0mmaybe_callable\u001b[0m \u001b[1;33m=\u001b[0m \u001b[0mcom\u001b[0m\u001b[1;33m.\u001b[0m\u001b[0mapply_if_callable\u001b[0m\u001b[1;33m(\u001b[0m\u001b[0mkey\u001b[0m\u001b[1;33m,\u001b[0m \u001b[0mself\u001b[0m\u001b[1;33m.\u001b[0m\u001b[0mobj\u001b[0m\u001b[1;33m)\u001b[0m\u001b[1;33m\u001b[0m\u001b[1;33m\u001b[0m\u001b[0m\n\u001b[1;32m-> 1424\u001b[1;33m             \u001b[1;32mreturn\u001b[0m \u001b[0mself\u001b[0m\u001b[1;33m.\u001b[0m\u001b[0m_getitem_axis\u001b[0m\u001b[1;33m(\u001b[0m\u001b[0mmaybe_callable\u001b[0m\u001b[1;33m,\u001b[0m \u001b[0maxis\u001b[0m\u001b[1;33m=\u001b[0m\u001b[0maxis\u001b[0m\u001b[1;33m)\u001b[0m\u001b[1;33m\u001b[0m\u001b[1;33m\u001b[0m\u001b[0m\n\u001b[0m\u001b[0;32m   1425\u001b[0m \u001b[1;33m\u001b[0m\u001b[0m\n\u001b[0;32m   1426\u001b[0m     \u001b[1;32mdef\u001b[0m \u001b[0m_is_scalar_access\u001b[0m\u001b[1;33m(\u001b[0m\u001b[0mself\u001b[0m\u001b[1;33m,\u001b[0m \u001b[0mkey\u001b[0m\u001b[1;33m:\u001b[0m \u001b[0mTuple\u001b[0m\u001b[1;33m)\u001b[0m\u001b[1;33m:\u001b[0m\u001b[1;33m\u001b[0m\u001b[1;33m\u001b[0m\u001b[0m\n",
      "\u001b[1;32mD:\\Anaconda\\lib\\site-packages\\pandas\\core\\indexing.py\u001b[0m in \u001b[0;36m_getitem_axis\u001b[1;34m(self, key, axis)\u001b[0m\n\u001b[0;32m   1848\u001b[0m         \u001b[1;31m# fall thru to straight lookup\u001b[0m\u001b[1;33m\u001b[0m\u001b[1;33m\u001b[0m\u001b[1;33m\u001b[0m\u001b[0m\n\u001b[0;32m   1849\u001b[0m         \u001b[0mself\u001b[0m\u001b[1;33m.\u001b[0m\u001b[0m_validate_key\u001b[0m\u001b[1;33m(\u001b[0m\u001b[0mkey\u001b[0m\u001b[1;33m,\u001b[0m \u001b[0maxis\u001b[0m\u001b[1;33m)\u001b[0m\u001b[1;33m\u001b[0m\u001b[1;33m\u001b[0m\u001b[0m\n\u001b[1;32m-> 1850\u001b[1;33m         \u001b[1;32mreturn\u001b[0m \u001b[0mself\u001b[0m\u001b[1;33m.\u001b[0m\u001b[0m_get_label\u001b[0m\u001b[1;33m(\u001b[0m\u001b[0mkey\u001b[0m\u001b[1;33m,\u001b[0m \u001b[0maxis\u001b[0m\u001b[1;33m=\u001b[0m\u001b[0maxis\u001b[0m\u001b[1;33m)\u001b[0m\u001b[1;33m\u001b[0m\u001b[1;33m\u001b[0m\u001b[0m\n\u001b[0m\u001b[0;32m   1851\u001b[0m \u001b[1;33m\u001b[0m\u001b[0m\n\u001b[0;32m   1852\u001b[0m \u001b[1;33m\u001b[0m\u001b[0m\n",
      "\u001b[1;32mD:\\Anaconda\\lib\\site-packages\\pandas\\core\\indexing.py\u001b[0m in \u001b[0;36m_get_label\u001b[1;34m(self, label, axis)\u001b[0m\n\u001b[0;32m    158\u001b[0m             \u001b[1;32mraise\u001b[0m \u001b[0mIndexingError\u001b[0m\u001b[1;33m(\u001b[0m\u001b[1;34m\"no slices here, handle elsewhere\"\u001b[0m\u001b[1;33m)\u001b[0m\u001b[1;33m\u001b[0m\u001b[1;33m\u001b[0m\u001b[0m\n\u001b[0;32m    159\u001b[0m \u001b[1;33m\u001b[0m\u001b[0m\n\u001b[1;32m--> 160\u001b[1;33m         \u001b[1;32mreturn\u001b[0m \u001b[0mself\u001b[0m\u001b[1;33m.\u001b[0m\u001b[0mobj\u001b[0m\u001b[1;33m.\u001b[0m\u001b[0m_xs\u001b[0m\u001b[1;33m(\u001b[0m\u001b[0mlabel\u001b[0m\u001b[1;33m,\u001b[0m \u001b[0maxis\u001b[0m\u001b[1;33m=\u001b[0m\u001b[0maxis\u001b[0m\u001b[1;33m)\u001b[0m\u001b[1;33m\u001b[0m\u001b[1;33m\u001b[0m\u001b[0m\n\u001b[0m\u001b[0;32m    161\u001b[0m \u001b[1;33m\u001b[0m\u001b[0m\n\u001b[0;32m    162\u001b[0m     \u001b[1;32mdef\u001b[0m \u001b[0m_get_loc\u001b[0m\u001b[1;33m(\u001b[0m\u001b[0mself\u001b[0m\u001b[1;33m,\u001b[0m \u001b[0mkey\u001b[0m\u001b[1;33m:\u001b[0m \u001b[0mint\u001b[0m\u001b[1;33m,\u001b[0m \u001b[0maxis\u001b[0m\u001b[1;33m:\u001b[0m \u001b[0mint\u001b[0m\u001b[1;33m)\u001b[0m\u001b[1;33m:\u001b[0m\u001b[1;33m\u001b[0m\u001b[1;33m\u001b[0m\u001b[0m\n",
      "\u001b[1;32mD:\\Anaconda\\lib\\site-packages\\pandas\\core\\generic.py\u001b[0m in \u001b[0;36mxs\u001b[1;34m(self, key, axis, level, drop_level)\u001b[0m\n\u001b[0;32m   3735\u001b[0m             \u001b[0mloc\u001b[0m\u001b[1;33m,\u001b[0m \u001b[0mnew_index\u001b[0m \u001b[1;33m=\u001b[0m \u001b[0mself\u001b[0m\u001b[1;33m.\u001b[0m\u001b[0mindex\u001b[0m\u001b[1;33m.\u001b[0m\u001b[0mget_loc_level\u001b[0m\u001b[1;33m(\u001b[0m\u001b[0mkey\u001b[0m\u001b[1;33m,\u001b[0m \u001b[0mdrop_level\u001b[0m\u001b[1;33m=\u001b[0m\u001b[0mdrop_level\u001b[0m\u001b[1;33m)\u001b[0m\u001b[1;33m\u001b[0m\u001b[1;33m\u001b[0m\u001b[0m\n\u001b[0;32m   3736\u001b[0m         \u001b[1;32melse\u001b[0m\u001b[1;33m:\u001b[0m\u001b[1;33m\u001b[0m\u001b[1;33m\u001b[0m\u001b[0m\n\u001b[1;32m-> 3737\u001b[1;33m             \u001b[0mloc\u001b[0m \u001b[1;33m=\u001b[0m \u001b[0mself\u001b[0m\u001b[1;33m.\u001b[0m\u001b[0mindex\u001b[0m\u001b[1;33m.\u001b[0m\u001b[0mget_loc\u001b[0m\u001b[1;33m(\u001b[0m\u001b[0mkey\u001b[0m\u001b[1;33m)\u001b[0m\u001b[1;33m\u001b[0m\u001b[1;33m\u001b[0m\u001b[0m\n\u001b[0m\u001b[0;32m   3738\u001b[0m \u001b[1;33m\u001b[0m\u001b[0m\n\u001b[0;32m   3739\u001b[0m             \u001b[1;32mif\u001b[0m \u001b[0misinstance\u001b[0m\u001b[1;33m(\u001b[0m\u001b[0mloc\u001b[0m\u001b[1;33m,\u001b[0m \u001b[0mnp\u001b[0m\u001b[1;33m.\u001b[0m\u001b[0mndarray\u001b[0m\u001b[1;33m)\u001b[0m\u001b[1;33m:\u001b[0m\u001b[1;33m\u001b[0m\u001b[1;33m\u001b[0m\u001b[0m\n",
      "\u001b[1;32mD:\\Anaconda\\lib\\site-packages\\pandas\\core\\indexes\\base.py\u001b[0m in \u001b[0;36mget_loc\u001b[1;34m(self, key, method, tolerance)\u001b[0m\n\u001b[0;32m   2897\u001b[0m                 \u001b[1;32mreturn\u001b[0m \u001b[0mself\u001b[0m\u001b[1;33m.\u001b[0m\u001b[0m_engine\u001b[0m\u001b[1;33m.\u001b[0m\u001b[0mget_loc\u001b[0m\u001b[1;33m(\u001b[0m\u001b[0mkey\u001b[0m\u001b[1;33m)\u001b[0m\u001b[1;33m\u001b[0m\u001b[1;33m\u001b[0m\u001b[0m\n\u001b[0;32m   2898\u001b[0m             \u001b[1;32mexcept\u001b[0m \u001b[0mKeyError\u001b[0m\u001b[1;33m:\u001b[0m\u001b[1;33m\u001b[0m\u001b[1;33m\u001b[0m\u001b[0m\n\u001b[1;32m-> 2899\u001b[1;33m                 \u001b[1;32mreturn\u001b[0m \u001b[0mself\u001b[0m\u001b[1;33m.\u001b[0m\u001b[0m_engine\u001b[0m\u001b[1;33m.\u001b[0m\u001b[0mget_loc\u001b[0m\u001b[1;33m(\u001b[0m\u001b[0mself\u001b[0m\u001b[1;33m.\u001b[0m\u001b[0m_maybe_cast_indexer\u001b[0m\u001b[1;33m(\u001b[0m\u001b[0mkey\u001b[0m\u001b[1;33m)\u001b[0m\u001b[1;33m)\u001b[0m\u001b[1;33m\u001b[0m\u001b[1;33m\u001b[0m\u001b[0m\n\u001b[0m\u001b[0;32m   2900\u001b[0m         \u001b[0mindexer\u001b[0m \u001b[1;33m=\u001b[0m \u001b[0mself\u001b[0m\u001b[1;33m.\u001b[0m\u001b[0mget_indexer\u001b[0m\u001b[1;33m(\u001b[0m\u001b[1;33m[\u001b[0m\u001b[0mkey\u001b[0m\u001b[1;33m]\u001b[0m\u001b[1;33m,\u001b[0m \u001b[0mmethod\u001b[0m\u001b[1;33m=\u001b[0m\u001b[0mmethod\u001b[0m\u001b[1;33m,\u001b[0m \u001b[0mtolerance\u001b[0m\u001b[1;33m=\u001b[0m\u001b[0mtolerance\u001b[0m\u001b[1;33m)\u001b[0m\u001b[1;33m\u001b[0m\u001b[1;33m\u001b[0m\u001b[0m\n\u001b[0;32m   2901\u001b[0m         \u001b[1;32mif\u001b[0m \u001b[0mindexer\u001b[0m\u001b[1;33m.\u001b[0m\u001b[0mndim\u001b[0m \u001b[1;33m>\u001b[0m \u001b[1;36m1\u001b[0m \u001b[1;32mor\u001b[0m \u001b[0mindexer\u001b[0m\u001b[1;33m.\u001b[0m\u001b[0msize\u001b[0m \u001b[1;33m>\u001b[0m \u001b[1;36m1\u001b[0m\u001b[1;33m:\u001b[0m\u001b[1;33m\u001b[0m\u001b[1;33m\u001b[0m\u001b[0m\n",
      "\u001b[1;32mpandas\\_libs\\index.pyx\u001b[0m in \u001b[0;36mpandas._libs.index.IndexEngine.get_loc\u001b[1;34m()\u001b[0m\n",
      "\u001b[1;32mpandas\\_libs\\index.pyx\u001b[0m in \u001b[0;36mpandas._libs.index.IndexEngine.get_loc\u001b[1;34m()\u001b[0m\n",
      "\u001b[1;32mpandas\\_libs\\index_class_helper.pxi\u001b[0m in \u001b[0;36mpandas._libs.index.Int64Engine._check_type\u001b[1;34m()\u001b[0m\n",
      "\u001b[1;31mKeyError\u001b[0m: None"
     ]
    }
   ],
   "source": [
    "Missing_Link = pd.DataFrame(Missing_Link, index = T2.Missing_Index,columns = [\"Links\"])\n",
    "for index in Missing_Link[\"Links\"]:\n",
    "    if Missing_Link.loc[index].values == None:\n",
    "                            print('None')\n",
    "    else:\n",
    "                            T2.Table_Data[\"Links\"][index] = Missing_Link.loc[index].values"
   ]
  },
  {
   "cell_type": "code",
   "execution_count": null,
   "metadata": {},
   "outputs": [],
   "source": [
    "T.Table_Data[\"ISSN\"] = T.ISSN"
   ]
  },
  {
   "cell_type": "code",
   "execution_count": null,
   "metadata": {},
   "outputs": [],
   "source": [
    "T.Table_Data['Links'][71]\n",
    "T.Table_Data['ISSN'][71]"
   ]
  },
  {
   "cell_type": "code",
   "execution_count": null,
   "metadata": {},
   "outputs": [],
   "source": [
    "Missing_Link = [T.URL+T.Table_Data[\"ISSN\"][i] for i in Missing_Index]"
   ]
  },
  {
   "cell_type": "code",
   "execution_count": null,
   "metadata": {},
   "outputs": [],
   "source": [
    "Missing_Link"
   ]
  },
  {
   "cell_type": "code",
   "execution_count": null,
   "metadata": {},
   "outputs": [],
   "source": [
    "type(T.Scope)"
   ]
  },
  {
   "cell_type": "code",
   "execution_count": null,
   "metadata": {},
   "outputs": [],
   "source": [
    "T.Scope\n"
   ]
  },
  {
   "cell_type": "code",
   "execution_count": null,
   "metadata": {},
   "outputs": [],
   "source": [
    "T.Links"
   ]
  },
  {
   "cell_type": "code",
   "execution_count": null,
   "metadata": {},
   "outputs": [],
   "source": [
    "T.Table_Data[\"Links\"] = T.Links"
   ]
  },
  {
   "cell_type": "code",
   "execution_count": null,
   "metadata": {},
   "outputs": [],
   "source": [
    "T.Table_Data.to_json(\"List_of_Journals_withLinks_of_scope.json\")"
   ]
  },
  {
   "cell_type": "code",
   "execution_count": null,
   "metadata": {},
   "outputs": [],
   "source": [
    "import json"
   ]
  },
  {
   "cell_type": "code",
   "execution_count": null,
   "metadata": {},
   "outputs": [],
   "source": [
    "f = open('List_of_Journals_withLinks_of_scope.json',)\n",
    "  \n",
    "# returns JSON object as \n",
    "# a dictionary\n",
    "data = json.load(f)\n",
    "  "
   ]
  },
  {
   "cell_type": "code",
   "execution_count": null,
   "metadata": {},
   "outputs": [],
   "source": [
    "type(data)"
   ]
  },
  {
   "cell_type": "code",
   "execution_count": null,
   "metadata": {},
   "outputs": [],
   "source": [
    "import pandas as pd"
   ]
  },
  {
   "cell_type": "code",
   "execution_count": null,
   "metadata": {},
   "outputs": [],
   "source": [
    "X = pd.read_json(\"List_of_Journals_withLinks_of_scope.json\")\n",
    "X"
   ]
  },
  {
   "cell_type": "code",
   "execution_count": null,
   "metadata": {},
   "outputs": [],
   "source": [
    "X.columns"
   ]
  },
  {
   "cell_type": "code",
   "execution_count": null,
   "metadata": {},
   "outputs": [],
   "source": [
    "X['Links']"
   ]
  },
  {
   "cell_type": "code",
   "execution_count": null,
   "metadata": {},
   "outputs": [],
   "source": [
    "T.Table_Data= X\n",
    "T.Table_Data"
   ]
  },
  {
   "cell_type": "code",
   "execution_count": null,
   "metadata": {},
   "outputs": [],
   "source": [
    "T.Scope = pool_handler(T.Scope_Parsing,T.Table_Data['Links'])\n",
    "T.Scope"
   ]
  },
  {
   "cell_type": "code",
   "execution_count": null,
   "metadata": {},
   "outputs": [],
   "source": [
    "print(X['Links'].iloc[0])\n",
    "T.Scope_Parsing(T.Table_Data['Links'][3])"
   ]
  },
  {
   "cell_type": "code",
   "execution_count": null,
   "metadata": {},
   "outputs": [],
   "source": [
    "for i,j in enumerate(X['Links'].iloc[0:2]):\n",
    "    print(i)\n",
    "    print(j)"
   ]
  },
  {
   "cell_type": "code",
   "execution_count": null,
   "metadata": {},
   "outputs": [],
   "source": [
    "Links = list(X['Links'])"
   ]
  },
  {
   "cell_type": "code",
   "execution_count": null,
   "metadata": {},
   "outputs": [],
   "source": [
    "Links"
   ]
  },
  {
   "cell_type": "code",
   "execution_count": null,
   "metadata": {},
   "outputs": [],
   "source": [
    "T.Scope[-1:]"
   ]
  },
  {
   "cell_type": "code",
   "execution_count": null,
   "metadata": {},
   "outputs": [],
   "source": [
    "T.Table_Data['Scope'] = T.Scope"
   ]
  },
  {
   "cell_type": "code",
   "execution_count": null,
   "metadata": {},
   "outputs": [],
   "source": [
    "T.Table_Data"
   ]
  },
  {
   "cell_type": "code",
   "execution_count": null,
   "metadata": {},
   "outputs": [],
   "source": [
    "T.Table_Data.to_json(\"List_of_Journals_with_scope.json\")\n",
    "import pandas as pd"
   ]
  },
  {
   "cell_type": "code",
   "execution_count": null,
   "metadata": {},
   "outputs": [],
   "source": [
    "Y = pd.read_json(\"List_of_Journals_with_scope.json\")"
   ]
  },
  {
   "cell_type": "code",
   "execution_count": null,
   "metadata": {},
   "outputs": [],
   "source": [
    "Y"
   ]
  },
  {
   "cell_type": "code",
   "execution_count": null,
   "metadata": {},
   "outputs": [],
   "source": [
    "import spacy\n",
    "#import en_core_web_sm\n",
    "import en_core_web_md\n",
    "#nlp=en_core_web_sm.load(disable=[\"parser\", \"tagger\", \"ner\"])\n",
    "nlp=en_core_web_md.load(disable=[\"parser\", \"tagger\", \"ner\"])"
   ]
  },
  {
   "cell_type": "code",
   "execution_count": null,
   "metadata": {},
   "outputs": [],
   "source": [
    "vector = []\n",
    "doc = nlp.pipe(Y['Scope'].values,n_process=T.num_cores,batch_size=200,n_threads=3,disable=[\"tok2vec\", \"tagger\", \"parser\", \"attribute_ruler\", \"lemmatizer\"])\n",
    "for i in doc:\n",
    "    print(vector.append(i.vector))"
   ]
  },
  {
   "cell_type": "code",
   "execution_count": null,
   "metadata": {},
   "outputs": [],
   "source": []
  },
  {
   "cell_type": "code",
   "execution_count": null,
   "metadata": {},
   "outputs": [],
   "source": []
  },
  {
   "cell_type": "code",
   "execution_count": null,
   "metadata": {},
   "outputs": [],
   "source": []
  },
  {
   "cell_type": "code",
   "execution_count": null,
   "metadata": {},
   "outputs": [],
   "source": [
    "\n",
    "tokens = []\n",
    "lemma = []\n",
    "pos = []\n",
    "vector = []\n",
    "for doc in nlp.pipe(Y['Scope'].astype('unicode').values, batch_size=50,n_threads=3):\n",
    "    print(doc)\n",
    "    \n",
    "    vector.append(doc.vector)\n",
    "    if doc:\n",
    "        tokens.append([n.text for n in doc])\n",
    "        lemma.append([n.lemma_ for n in doc])\n",
    "        pos.append([n.pos_ for n in doc])\n",
    "    else:\n",
    "        # We want to make sure that the lists of parsed results have the\n",
    "        # same number of entries of the original Dataframe, so add some blanks in case the parse fails\n",
    "        tokens.append(None)\n",
    "        lemma.append(None)\n",
    "        pos.append(None)\n",
    "\n",
    "Y['species_tokens'] = tokens\n",
    "Y['species_lemma'] = lemma\n",
    "Y['species_pos'] = pos\n",
    "Y['Vector'] = vector  "
   ]
  },
  {
   "cell_type": "code",
   "execution_count": null,
   "metadata": {},
   "outputs": [],
   "source": [
    "Y.to_json('List_Of_Journal_With_Vector.json')"
   ]
  },
  {
   "cell_type": "code",
   "execution_count": null,
   "metadata": {},
   "outputs": [],
   "source": [
    "xx = nlp('Hello')"
   ]
  },
  {
   "cell_type": "code",
   "execution_count": null,
   "metadata": {},
   "outputs": [],
   "source": [
    "xx.vector"
   ]
  },
  {
   "cell_type": "code",
   "execution_count": null,
   "metadata": {},
   "outputs": [],
   "source": [
    "Test = \"Graphene is a crystalline allotrope of carbon in the form of a nearly transparent (to visible light) one atom thick sheet. It is hundreds of times stronger than most steels by weight\""
   ]
  },
  {
   "cell_type": "code",
   "execution_count": null,
   "metadata": {},
   "outputs": [],
   "source": [
    "nlp(Y[\"Vector\"][3]).similarity(nlp(Test))"
   ]
  },
  {
   "cell_type": "code",
   "execution_count": null,
   "metadata": {},
   "outputs": [],
   "source": [
    "nlp(Y[\"Scope\"][3]).similarity(nlp(Test))"
   ]
  },
  {
   "cell_type": "code",
   "execution_count": null,
   "metadata": {},
   "outputs": [],
   "source": []
  },
  {
   "cell_type": "code",
   "execution_count": null,
   "metadata": {},
   "outputs": [],
   "source": []
  },
  {
   "cell_type": "code",
   "execution_count": null,
   "metadata": {},
   "outputs": [],
   "source": []
  },
  {
   "cell_type": "code",
   "execution_count": null,
   "metadata": {},
   "outputs": [],
   "source": []
  },
  {
   "cell_type": "code",
   "execution_count": null,
   "metadata": {},
   "outputs": [],
   "source": []
  },
  {
   "cell_type": "code",
   "execution_count": null,
   "metadata": {},
   "outputs": [],
   "source": []
  },
  {
   "cell_type": "code",
   "execution_count": null,
   "metadata": {},
   "outputs": [],
   "source": []
  },
  {
   "cell_type": "code",
   "execution_count": null,
   "metadata": {},
   "outputs": [],
   "source": []
  },
  {
   "cell_type": "code",
   "execution_count": null,
   "metadata": {},
   "outputs": [],
   "source": []
  },
  {
   "cell_type": "markdown",
   "metadata": {},
   "source": [
    "# Testing Yield and Iterator"
   ]
  },
  {
   "cell_type": "code",
   "execution_count": null,
   "metadata": {},
   "outputs": [],
   "source": [
    "def my_iterator():\n",
    "    for element in list(range(100)):\n",
    "        yield element\n",
    "\n",
    "my_iter = my_iterator()\n"
   ]
  },
  {
   "cell_type": "code",
   "execution_count": null,
   "metadata": {},
   "outputs": [],
   "source": []
  },
  {
   "cell_type": "code",
   "execution_count": null,
   "metadata": {},
   "outputs": [],
   "source": []
  }
 ],
 "metadata": {
  "colab": {
   "name": "Anna University JF.ipynb",
   "provenance": []
  },
  "kernelspec": {
   "display_name": "Python 3",
   "language": "python",
   "name": "python3"
  },
  "language_info": {
   "codemirror_mode": {
    "name": "ipython",
    "version": 3
   },
   "file_extension": ".py",
   "mimetype": "text/x-python",
   "name": "python",
   "nbconvert_exporter": "python",
   "pygments_lexer": "ipython3",
   "version": "3.7.4"
  },
  "widgets": {
   "application/vnd.jupyter.widget-state+json": {
    "state": {},
    "version_major": 2,
    "version_minor": 0
   }
  }
 },
 "nbformat": 4,
 "nbformat_minor": 1
}
