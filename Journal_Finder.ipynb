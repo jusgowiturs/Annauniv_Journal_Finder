{
 "cells": [
  {
   "cell_type": "code",
   "execution_count": 10,
   "metadata": {},
   "outputs": [],
   "source": [
    "import json\n",
    "import pandas as pd\n",
    "import spacy\n",
    "from multiprocessing import Pool\n",
    "#import en_core_web_sm\n",
    "import en_core_web_md\n",
    "#nlp=en_core_web_sm.load(disable=[\"parser\", \"tagger\", \"ner\"])\n",
    "nlp=spacy.load('en_core_web_md',disable=[\"parser\", \"tagger\", \"ner\"])"
   ]
  },
  {
   "cell_type": "code",
   "execution_count": 2,
   "metadata": {},
   "outputs": [
    {
     "data": {
      "text/plain": [
       "[]"
      ]
     },
     "execution_count": 2,
     "metadata": {},
     "output_type": "execute_result"
    }
   ],
   "source": [
    "nlp.pipe_names"
   ]
  },
  {
   "cell_type": "code",
   "execution_count": 14,
   "metadata": {},
   "outputs": [
    {
     "name": "stdout",
     "output_type": "stream",
     "text": [
      "0.25.1\n",
      "2.2.3\n"
     ]
    }
   ],
   "source": [
    "print(pd.__version__)\n",
    "print(spacy.__version__)"
   ]
  },
  {
   "cell_type": "code",
   "execution_count": 15,
   "metadata": {},
   "outputs": [
    {
     "name": "stdout",
     "output_type": "stream",
     "text": [
      "conda 4.10.1\n"
     ]
    }
   ],
   "source": [
    "!conda -V"
   ]
  },
  {
   "cell_type": "code",
   "execution_count": 16,
   "metadata": {},
   "outputs": [],
   "source": [
    "def pool_handler(fun,arg):\n",
    "    #print(arg)\n",
    "    p = Pool(processes = T.num_cores)\n",
    "    output = p.map(fun, enumerate(arg))\n",
    "    return output"
   ]
  },
  {
   "cell_type": "code",
   "execution_count": 17,
   "metadata": {},
   "outputs": [],
   "source": [
    "#TypeError: object of type 'NoneType' has no len()\n"
   ]
  },
  {
   "cell_type": "code",
   "execution_count": 18,
   "metadata": {},
   "outputs": [
    {
     "data": {
      "text/html": [
       "<div>\n",
       "<style scoped>\n",
       "    .dataframe tbody tr th:only-of-type {\n",
       "        vertical-align: middle;\n",
       "    }\n",
       "\n",
       "    .dataframe tbody tr th {\n",
       "        vertical-align: top;\n",
       "    }\n",
       "\n",
       "    .dataframe thead th {\n",
       "        text-align: right;\n",
       "    }\n",
       "</style>\n",
       "<table border=\"1\" class=\"dataframe\">\n",
       "  <thead>\n",
       "    <tr style=\"text-align: right;\">\n",
       "      <th></th>\n",
       "      <th>Sl.No</th>\n",
       "      <th>Full Journal Title</th>\n",
       "      <th>ISSN</th>\n",
       "      <th>Publisher</th>\n",
       "      <th>Country</th>\n",
       "      <th>Links</th>\n",
       "      <th>Scope</th>\n",
       "    </tr>\n",
       "  </thead>\n",
       "  <tbody>\n",
       "    <tr>\n",
       "      <td>3</td>\n",
       "      <td>1</td>\n",
       "      <td>2D MATERIALS</td>\n",
       "      <td>2053-1583\\nIOP PUBLISHING LTD\\nENGLAND</td>\n",
       "      <td>IOP PUBLISHING LTD</td>\n",
       "      <td>ENGLAND</td>\n",
       "      <td>https://www.scimagojr.com/journalsearch.php?q=...</td>\n",
       "      <td>\\r\\n      2D Materials aims to curate the most...</td>\n",
       "    </tr>\n",
       "    <tr>\n",
       "      <td>4</td>\n",
       "      <td>2</td>\n",
       "      <td>3 BIOTECH</td>\n",
       "      <td>2190-572X\\nSPRINGER HEIDELBERG\\nGERMANY</td>\n",
       "      <td>SPRINGER HEIDELBERG</td>\n",
       "      <td>GERMANY</td>\n",
       "      <td>https://www.scimagojr.com/journalsearch.php?q=...</td>\n",
       "      <td>\\r\\n      3 Biotech publishes the results of t...</td>\n",
       "    </tr>\n",
       "    <tr>\n",
       "      <td>5</td>\n",
       "      <td>3</td>\n",
       "      <td>3D PRINTING AND ADDITIVE MANUFACTURING</td>\n",
       "      <td>2329-7662\\nMARY ANN LIEBERT, INC\\nUNITED STATES</td>\n",
       "      <td>MARY ANN LIEBERT, INC</td>\n",
       "      <td>UNITED STATES</td>\n",
       "      <td>https://www.scimagojr.com/journalsearch.php?q=...</td>\n",
       "      <td>\\r\\n      3D Printing and Additive Manufacturi...</td>\n",
       "    </tr>\n",
       "    <tr>\n",
       "      <td>6</td>\n",
       "      <td>4</td>\n",
       "      <td>4OR-A QUARTERLY JOURNAL OF OPERATIONS RESEARCH</td>\n",
       "      <td>1619-4500\\nSPRINGER HEIDELBERG\\nGERMANY</td>\n",
       "      <td>SPRINGER HEIDELBERG</td>\n",
       "      <td>GERMANY</td>\n",
       "      <td>https://www.scimagojr.com/journalsearch.php?q=...</td>\n",
       "      <td>\\r\\n      4OR - A Quarterly Journal of Operati...</td>\n",
       "    </tr>\n",
       "    <tr>\n",
       "      <td>7</td>\n",
       "      <td>5</td>\n",
       "      <td>AAPG BULLETIN</td>\n",
       "      <td>0149-1423\\nAMER ASSOC PETROLEUM GEOLOGIST\\nUNI...</td>\n",
       "      <td>AMER ASSOC PETROLEUM GEOLOGIST</td>\n",
       "      <td>UNITED STATES</td>\n",
       "      <td>https://www.scimagojr.com/journalsearch.php?q=...</td>\n",
       "      <td>\\r\\n      While the 21st-century AAPG Bulletin...</td>\n",
       "    </tr>\n",
       "  </tbody>\n",
       "</table>\n",
       "</div>"
      ],
      "text/plain": [
       "   Sl.No                              Full Journal Title  \\\n",
       "3      1                                    2D MATERIALS   \n",
       "4      2                                       3 BIOTECH   \n",
       "5      3          3D PRINTING AND ADDITIVE MANUFACTURING   \n",
       "6      4  4OR-A QUARTERLY JOURNAL OF OPERATIONS RESEARCH   \n",
       "7      5                                   AAPG BULLETIN   \n",
       "\n",
       "                                                ISSN  \\\n",
       "3             2053-1583\\nIOP PUBLISHING LTD\\nENGLAND   \n",
       "4            2190-572X\\nSPRINGER HEIDELBERG\\nGERMANY   \n",
       "5    2329-7662\\nMARY ANN LIEBERT, INC\\nUNITED STATES   \n",
       "6            1619-4500\\nSPRINGER HEIDELBERG\\nGERMANY   \n",
       "7  0149-1423\\nAMER ASSOC PETROLEUM GEOLOGIST\\nUNI...   \n",
       "\n",
       "                        Publisher        Country  \\\n",
       "3              IOP PUBLISHING LTD        ENGLAND   \n",
       "4             SPRINGER HEIDELBERG        GERMANY   \n",
       "5           MARY ANN LIEBERT, INC  UNITED STATES   \n",
       "6             SPRINGER HEIDELBERG        GERMANY   \n",
       "7  AMER ASSOC PETROLEUM GEOLOGIST  UNITED STATES   \n",
       "\n",
       "                                               Links  \\\n",
       "3  https://www.scimagojr.com/journalsearch.php?q=...   \n",
       "4  https://www.scimagojr.com/journalsearch.php?q=...   \n",
       "5  https://www.scimagojr.com/journalsearch.php?q=...   \n",
       "6  https://www.scimagojr.com/journalsearch.php?q=...   \n",
       "7  https://www.scimagojr.com/journalsearch.php?q=...   \n",
       "\n",
       "                                               Scope  \n",
       "3  \\r\\n      2D Materials aims to curate the most...  \n",
       "4  \\r\\n      3 Biotech publishes the results of t...  \n",
       "5  \\r\\n      3D Printing and Additive Manufacturi...  \n",
       "6  \\r\\n      4OR - A Quarterly Journal of Operati...  \n",
       "7  \\r\\n      While the 21st-century AAPG Bulletin...  "
      ]
     },
     "execution_count": 18,
     "metadata": {},
     "output_type": "execute_result"
    }
   ],
   "source": [
    "Table.head()"
   ]
  },
  {
   "cell_type": "code",
   "execution_count": 7,
   "metadata": {},
   "outputs": [],
   "source": [
    "Index = Table.index"
   ]
  },
  {
   "cell_type": "code",
   "execution_count": 81,
   "metadata": {},
   "outputs": [
    {
     "data": {
      "text/plain": [
       "258"
      ]
     },
     "execution_count": 81,
     "metadata": {},
     "output_type": "execute_result"
    }
   ],
   "source": [
    "Table['Scope'].isna().sum()"
   ]
  },
  {
   "cell_type": "code",
   "execution_count": 20,
   "metadata": {},
   "outputs": [
    {
     "ename": "TypeError",
     "evalue": "object of type 'NoneType' has no len()",
     "output_type": "error",
     "traceback": [
      "\u001b[1;31m---------------------------------------------------------------------------\u001b[0m",
      "\u001b[1;31mTypeError\u001b[0m                                 Traceback (most recent call last)",
      "\u001b[1;32m<ipython-input-20-1ae7c282f131>\u001b[0m in \u001b[0;36m<module>\u001b[1;34m\u001b[0m\n\u001b[1;32m----> 1\u001b[1;33m \u001b[0mTable\u001b[0m\u001b[1;33m[\u001b[0m\u001b[1;34m'Vectors'\u001b[0m\u001b[1;33m]\u001b[0m \u001b[1;33m=\u001b[0m \u001b[0mTable\u001b[0m\u001b[1;33m[\u001b[0m\u001b[1;34m'Scope'\u001b[0m\u001b[1;33m]\u001b[0m\u001b[1;33m.\u001b[0m\u001b[0mapply\u001b[0m\u001b[1;33m(\u001b[0m\u001b[0mnlp\u001b[0m\u001b[1;33m)\u001b[0m\u001b[1;33m\u001b[0m\u001b[1;33m\u001b[0m\u001b[0m\n\u001b[0m",
      "\u001b[1;32mD:\\Anaconda\\lib\\site-packages\\pandas\\core\\series.py\u001b[0m in \u001b[0;36mapply\u001b[1;34m(self, func, convert_dtype, args, **kwds)\u001b[0m\n\u001b[0;32m   4040\u001b[0m             \u001b[1;32melse\u001b[0m\u001b[1;33m:\u001b[0m\u001b[1;33m\u001b[0m\u001b[1;33m\u001b[0m\u001b[0m\n\u001b[0;32m   4041\u001b[0m                 \u001b[0mvalues\u001b[0m \u001b[1;33m=\u001b[0m \u001b[0mself\u001b[0m\u001b[1;33m.\u001b[0m\u001b[0mastype\u001b[0m\u001b[1;33m(\u001b[0m\u001b[0mobject\u001b[0m\u001b[1;33m)\u001b[0m\u001b[1;33m.\u001b[0m\u001b[0mvalues\u001b[0m\u001b[1;33m\u001b[0m\u001b[1;33m\u001b[0m\u001b[0m\n\u001b[1;32m-> 4042\u001b[1;33m                 \u001b[0mmapped\u001b[0m \u001b[1;33m=\u001b[0m \u001b[0mlib\u001b[0m\u001b[1;33m.\u001b[0m\u001b[0mmap_infer\u001b[0m\u001b[1;33m(\u001b[0m\u001b[0mvalues\u001b[0m\u001b[1;33m,\u001b[0m \u001b[0mf\u001b[0m\u001b[1;33m,\u001b[0m \u001b[0mconvert\u001b[0m\u001b[1;33m=\u001b[0m\u001b[0mconvert_dtype\u001b[0m\u001b[1;33m)\u001b[0m\u001b[1;33m\u001b[0m\u001b[1;33m\u001b[0m\u001b[0m\n\u001b[0m\u001b[0;32m   4043\u001b[0m \u001b[1;33m\u001b[0m\u001b[0m\n\u001b[0;32m   4044\u001b[0m         \u001b[1;32mif\u001b[0m \u001b[0mlen\u001b[0m\u001b[1;33m(\u001b[0m\u001b[0mmapped\u001b[0m\u001b[1;33m)\u001b[0m \u001b[1;32mand\u001b[0m \u001b[0misinstance\u001b[0m\u001b[1;33m(\u001b[0m\u001b[0mmapped\u001b[0m\u001b[1;33m[\u001b[0m\u001b[1;36m0\u001b[0m\u001b[1;33m]\u001b[0m\u001b[1;33m,\u001b[0m \u001b[0mSeries\u001b[0m\u001b[1;33m)\u001b[0m\u001b[1;33m:\u001b[0m\u001b[1;33m\u001b[0m\u001b[1;33m\u001b[0m\u001b[0m\n",
      "\u001b[1;32mpandas\\_libs\\lib.pyx\u001b[0m in \u001b[0;36mpandas._libs.lib.map_infer\u001b[1;34m()\u001b[0m\n",
      "\u001b[1;32mD:\\Anaconda\\lib\\site-packages\\spacy\\language.py\u001b[0m in \u001b[0;36m__call__\u001b[1;34m(self, text, disable, component_cfg)\u001b[0m\n\u001b[0;32m    421\u001b[0m         \u001b[0mDOCS\u001b[0m\u001b[1;33m:\u001b[0m \u001b[0mhttps\u001b[0m\u001b[1;33m:\u001b[0m\u001b[1;33m//\u001b[0m\u001b[0mspacy\u001b[0m\u001b[1;33m.\u001b[0m\u001b[0mio\u001b[0m\u001b[1;33m/\u001b[0m\u001b[0mapi\u001b[0m\u001b[1;33m/\u001b[0m\u001b[0mlanguage\u001b[0m\u001b[1;31m#call\u001b[0m\u001b[1;33m\u001b[0m\u001b[1;33m\u001b[0m\u001b[0m\n\u001b[0;32m    422\u001b[0m         \"\"\"\n\u001b[1;32m--> 423\u001b[1;33m         \u001b[1;32mif\u001b[0m \u001b[0mlen\u001b[0m\u001b[1;33m(\u001b[0m\u001b[0mtext\u001b[0m\u001b[1;33m)\u001b[0m \u001b[1;33m>\u001b[0m \u001b[0mself\u001b[0m\u001b[1;33m.\u001b[0m\u001b[0mmax_length\u001b[0m\u001b[1;33m:\u001b[0m\u001b[1;33m\u001b[0m\u001b[1;33m\u001b[0m\u001b[0m\n\u001b[0m\u001b[0;32m    424\u001b[0m             raise ValueError(\n\u001b[0;32m    425\u001b[0m                 \u001b[0mErrors\u001b[0m\u001b[1;33m.\u001b[0m\u001b[0mE088\u001b[0m\u001b[1;33m.\u001b[0m\u001b[0mformat\u001b[0m\u001b[1;33m(\u001b[0m\u001b[0mlength\u001b[0m\u001b[1;33m=\u001b[0m\u001b[0mlen\u001b[0m\u001b[1;33m(\u001b[0m\u001b[0mtext\u001b[0m\u001b[1;33m)\u001b[0m\u001b[1;33m,\u001b[0m \u001b[0mmax_length\u001b[0m\u001b[1;33m=\u001b[0m\u001b[0mself\u001b[0m\u001b[1;33m.\u001b[0m\u001b[0mmax_length\u001b[0m\u001b[1;33m)\u001b[0m\u001b[1;33m\u001b[0m\u001b[1;33m\u001b[0m\u001b[0m\n",
      "\u001b[1;31mTypeError\u001b[0m: object of type 'NoneType' has no len()"
     ]
    }
   ],
   "source": [
    "Table['Vectors'] = Table['Scope'].apply(nlp)"
   ]
  },
  {
   "cell_type": "code",
   "execution_count": null,
   "metadata": {},
   "outputs": [],
   "source": [
    "%timeit\n",
    "for i in Table[\"Scope\"]:\n",
    "    print(i)"
   ]
  },
  {
   "cell_type": "code",
   "execution_count": null,
   "metadata": {},
   "outputs": [],
   "source": [
    "Table[\"Scope\"].count(None)"
   ]
  },
  {
   "cell_type": "code",
   "execution_count": null,
   "metadata": {},
   "outputs": [],
   "source": [
    "len(Table)"
   ]
  },
  {
   "cell_type": "code",
   "execution_count": null,
   "metadata": {},
   "outputs": [],
   "source": [
    "11089-9218"
   ]
  },
  {
   "cell_type": "code",
   "execution_count": null,
   "metadata": {},
   "outputs": [],
   "source": [
    "Links = pd.read_json(\"List_of_Journals_withLinks_of_scope.json\")"
   ]
  },
  {
   "cell_type": "code",
   "execution_count": null,
   "metadata": {},
   "outputs": [],
   "source": [
    "Links[\"Links\"].count(None)"
   ]
  },
  {
   "cell_type": "code",
   "execution_count": null,
   "metadata": {},
   "outputs": [],
   "source": [
    "for i in Links.index:\n",
    "    if Links[\"Links\"][i] == None:\n",
    "        print(i)"
   ]
  },
  {
   "cell_type": "code",
   "execution_count": null,
   "metadata": {},
   "outputs": [],
   "source": []
  },
  {
   "cell_type": "code",
   "execution_count": null,
   "metadata": {},
   "outputs": [],
   "source": []
  },
  {
   "cell_type": "code",
   "execution_count": null,
   "metadata": {},
   "outputs": [],
   "source": []
  },
  {
   "cell_type": "code",
   "execution_count": null,
   "metadata": {},
   "outputs": [],
   "source": []
  },
  {
   "cell_type": "code",
   "execution_count": null,
   "metadata": {},
   "outputs": [],
   "source": []
  },
  {
   "cell_type": "code",
   "execution_count": null,
   "metadata": {},
   "outputs": [],
   "source": []
  },
  {
   "cell_type": "code",
   "execution_count": null,
   "metadata": {},
   "outputs": [],
   "source": []
  },
  {
   "cell_type": "code",
   "execution_count": null,
   "metadata": {},
   "outputs": [],
   "source": []
  },
  {
   "cell_type": "code",
   "execution_count": null,
   "metadata": {},
   "outputs": [],
   "source": []
  },
  {
   "cell_type": "code",
   "execution_count": null,
   "metadata": {},
   "outputs": [],
   "source": []
  },
  {
   "cell_type": "code",
   "execution_count": null,
   "metadata": {},
   "outputs": [],
   "source": []
  },
  {
   "cell_type": "code",
   "execution_count": null,
   "metadata": {},
   "outputs": [],
   "source": []
  },
  {
   "cell_type": "code",
   "execution_count": null,
   "metadata": {},
   "outputs": [],
   "source": []
  },
  {
   "cell_type": "code",
   "execution_count": null,
   "metadata": {},
   "outputs": [],
   "source": []
  },
  {
   "cell_type": "code",
   "execution_count": null,
   "metadata": {},
   "outputs": [],
   "source": []
  },
  {
   "cell_type": "code",
   "execution_count": null,
   "metadata": {},
   "outputs": [],
   "source": []
  },
  {
   "cell_type": "code",
   "execution_count": null,
   "metadata": {},
   "outputs": [],
   "source": []
  },
  {
   "cell_type": "code",
   "execution_count": null,
   "metadata": {},
   "outputs": [],
   "source": []
  },
  {
   "cell_type": "code",
   "execution_count": null,
   "metadata": {},
   "outputs": [],
   "source": []
  },
  {
   "cell_type": "code",
   "execution_count": null,
   "metadata": {},
   "outputs": [],
   "source": []
  },
  {
   "cell_type": "code",
   "execution_count": null,
   "metadata": {},
   "outputs": [],
   "source": []
  },
  {
   "cell_type": "code",
   "execution_count": null,
   "metadata": {},
   "outputs": [],
   "source": []
  },
  {
   "cell_type": "code",
   "execution_count": null,
   "metadata": {},
   "outputs": [],
   "source": [
    "import numpy as np"
   ]
  },
  {
   "cell_type": "code",
   "execution_count": null,
   "metadata": {},
   "outputs": [],
   "source": [
    "df = pd.DataFrame(\n",
    "   ...:     np.random.randn(5, 3),\n",
    "   ...:     index=[\"a\", \"c\", \"e\", \"f\", \"h\"],\n",
    "   ...:     columns=[\"one\", \"two\", \"three\"],\n",
    "   ...: )"
   ]
  },
  {
   "cell_type": "code",
   "execution_count": null,
   "metadata": {},
   "outputs": [],
   "source": [
    "df"
   ]
  },
  {
   "cell_type": "code",
   "execution_count": null,
   "metadata": {},
   "outputs": [],
   "source": [
    "df['four'] = 'bar'"
   ]
  },
  {
   "cell_type": "code",
   "execution_count": null,
   "metadata": {},
   "outputs": [],
   "source": [
    "df"
   ]
  },
  {
   "cell_type": "code",
   "execution_count": null,
   "metadata": {},
   "outputs": [],
   "source": [
    "df['five']= df['one']>0\n",
    "df"
   ]
  },
  {
   "cell_type": "code",
   "execution_count": null,
   "metadata": {},
   "outputs": [],
   "source": [
    "df2 = df.reindex([\"a\", \"b\", \"c\", \"d\", \"e\", \"f\", \"g\", \"h\"])"
   ]
  },
  {
   "cell_type": "code",
   "execution_count": null,
   "metadata": {},
   "outputs": [],
   "source": [
    "print(df)\n",
    "print(df2)"
   ]
  },
  {
   "cell_type": "code",
   "execution_count": null,
   "metadata": {},
   "outputs": [],
   "source": [
    "pd.isna(df2['one']).sum()"
   ]
  },
  {
   "cell_type": "code",
   "execution_count": null,
   "metadata": {},
   "outputs": [],
   "source": [
    "df2[\"four\"].notna()"
   ]
  },
  {
   "cell_type": "code",
   "execution_count": null,
   "metadata": {},
   "outputs": [],
   "source": [
    "df2['four'].isna()"
   ]
  },
  {
   "cell_type": "code",
   "execution_count": null,
   "metadata": {},
   "outputs": [],
   "source": [
    "df2[\"one\"] == np.nan\n",
    " "
   ]
  },
  {
   "cell_type": "code",
   "execution_count": null,
   "metadata": {},
   "outputs": [],
   "source": [
    "pd.Series([1, 2, np.nan, 4], dtype=pd.Int64Dtype())"
   ]
  },
  {
   "cell_type": "code",
   "execution_count": null,
   "metadata": {},
   "outputs": [],
   "source": [
    "df2 = df.copy()"
   ]
  },
  {
   "cell_type": "code",
   "execution_count": null,
   "metadata": {},
   "outputs": [],
   "source": [
    "df2[\"timestamp\"] = pd.Timestamp(\"20120101\")"
   ]
  },
  {
   "cell_type": "code",
   "execution_count": null,
   "metadata": {},
   "outputs": [],
   "source": [
    "df2"
   ]
  },
  {
   "cell_type": "code",
   "execution_count": null,
   "metadata": {},
   "outputs": [],
   "source": [
    "df2.loc[[\"a\", \"c\", \"h\"], [\"one\", \"timestamp\"]] = np.nan\n",
    "df2"
   ]
  },
  {
   "cell_type": "code",
   "execution_count": null,
   "metadata": {},
   "outputs": [],
   "source": [
    "df2.dtypes.value_counts()"
   ]
  },
  {
   "cell_type": "code",
   "execution_count": null,
   "metadata": {},
   "outputs": [],
   "source": [
    "df2.dtypes"
   ]
  },
  {
   "cell_type": "code",
   "execution_count": 74,
   "metadata": {},
   "outputs": [],
   "source": [
    "Value = {\"A\":[20, 21, 1,12],\"Words\":[\"Hello\",\"World\",None,\"What is your name?\"]}"
   ]
  },
  {
   "cell_type": "code",
   "execution_count": 75,
   "metadata": {},
   "outputs": [],
   "source": [
    "s = pd.DataFrame(Value)"
   ]
  },
  {
   "cell_type": "code",
   "execution_count": 76,
   "metadata": {},
   "outputs": [],
   "source": [
    "s[\"Square\"]=s[\"A\"].apply(lambda x: x ** 2)"
   ]
  },
  {
   "cell_type": "code",
   "execution_count": 77,
   "metadata": {},
   "outputs": [
    {
     "name": "stdout",
     "output_type": "stream",
     "text": [
      "    A               Words  Square\n",
      "0  20               Hello     400\n",
      "1  21               World     441\n",
      "2   1                None       1\n",
      "3  12  What is your name?     144\n"
     ]
    }
   ],
   "source": [
    "print(s)"
   ]
  },
  {
   "cell_type": "code",
   "execution_count": 78,
   "metadata": {},
   "outputs": [
    {
     "data": {
      "text/plain": [
       "pandas.core.series.Series"
      ]
     },
     "execution_count": 78,
     "metadata": {},
     "output_type": "execute_result"
    }
   ],
   "source": [
    "nlp\n",
    "type(s[\"Words\"])\n",
    "type(s['A'])"
   ]
  },
  {
   "cell_type": "code",
   "execution_count": 79,
   "metadata": {},
   "outputs": [
    {
     "ename": "TypeError",
     "evalue": "object of type 'NoneType' has no len()",
     "output_type": "error",
     "traceback": [
      "\u001b[1;31m---------------------------------------------------------------------------\u001b[0m",
      "\u001b[1;31mTypeError\u001b[0m                                 Traceback (most recent call last)",
      "\u001b[1;32m<ipython-input-79-7897a1ed00c3>\u001b[0m in \u001b[0;36m<module>\u001b[1;34m\u001b[0m\n\u001b[1;32m----> 1\u001b[1;33m \u001b[0ms\u001b[0m\u001b[1;33m[\u001b[0m\u001b[1;34m\"C\"\u001b[0m\u001b[1;33m]\u001b[0m \u001b[1;33m=\u001b[0m \u001b[0ms\u001b[0m\u001b[1;33m[\u001b[0m\u001b[1;34m\"Words\"\u001b[0m\u001b[1;33m]\u001b[0m\u001b[1;33m.\u001b[0m\u001b[0mapply\u001b[0m\u001b[1;33m(\u001b[0m\u001b[0mnlp\u001b[0m\u001b[1;33m)\u001b[0m\u001b[1;33m\u001b[0m\u001b[1;33m\u001b[0m\u001b[0m\n\u001b[0m",
      "\u001b[1;32mD:\\Anaconda\\lib\\site-packages\\pandas\\core\\series.py\u001b[0m in \u001b[0;36mapply\u001b[1;34m(self, func, convert_dtype, args, **kwds)\u001b[0m\n\u001b[0;32m   4040\u001b[0m             \u001b[1;32melse\u001b[0m\u001b[1;33m:\u001b[0m\u001b[1;33m\u001b[0m\u001b[1;33m\u001b[0m\u001b[0m\n\u001b[0;32m   4041\u001b[0m                 \u001b[0mvalues\u001b[0m \u001b[1;33m=\u001b[0m \u001b[0mself\u001b[0m\u001b[1;33m.\u001b[0m\u001b[0mastype\u001b[0m\u001b[1;33m(\u001b[0m\u001b[0mobject\u001b[0m\u001b[1;33m)\u001b[0m\u001b[1;33m.\u001b[0m\u001b[0mvalues\u001b[0m\u001b[1;33m\u001b[0m\u001b[1;33m\u001b[0m\u001b[0m\n\u001b[1;32m-> 4042\u001b[1;33m                 \u001b[0mmapped\u001b[0m \u001b[1;33m=\u001b[0m \u001b[0mlib\u001b[0m\u001b[1;33m.\u001b[0m\u001b[0mmap_infer\u001b[0m\u001b[1;33m(\u001b[0m\u001b[0mvalues\u001b[0m\u001b[1;33m,\u001b[0m \u001b[0mf\u001b[0m\u001b[1;33m,\u001b[0m \u001b[0mconvert\u001b[0m\u001b[1;33m=\u001b[0m\u001b[0mconvert_dtype\u001b[0m\u001b[1;33m)\u001b[0m\u001b[1;33m\u001b[0m\u001b[1;33m\u001b[0m\u001b[0m\n\u001b[0m\u001b[0;32m   4043\u001b[0m \u001b[1;33m\u001b[0m\u001b[0m\n\u001b[0;32m   4044\u001b[0m         \u001b[1;32mif\u001b[0m \u001b[0mlen\u001b[0m\u001b[1;33m(\u001b[0m\u001b[0mmapped\u001b[0m\u001b[1;33m)\u001b[0m \u001b[1;32mand\u001b[0m \u001b[0misinstance\u001b[0m\u001b[1;33m(\u001b[0m\u001b[0mmapped\u001b[0m\u001b[1;33m[\u001b[0m\u001b[1;36m0\u001b[0m\u001b[1;33m]\u001b[0m\u001b[1;33m,\u001b[0m \u001b[0mSeries\u001b[0m\u001b[1;33m)\u001b[0m\u001b[1;33m:\u001b[0m\u001b[1;33m\u001b[0m\u001b[1;33m\u001b[0m\u001b[0m\n",
      "\u001b[1;32mpandas\\_libs\\lib.pyx\u001b[0m in \u001b[0;36mpandas._libs.lib.map_infer\u001b[1;34m()\u001b[0m\n",
      "\u001b[1;32mD:\\Anaconda\\lib\\site-packages\\spacy\\language.py\u001b[0m in \u001b[0;36m__call__\u001b[1;34m(self, text, disable, component_cfg)\u001b[0m\n\u001b[0;32m    421\u001b[0m         \u001b[0mDOCS\u001b[0m\u001b[1;33m:\u001b[0m \u001b[0mhttps\u001b[0m\u001b[1;33m:\u001b[0m\u001b[1;33m//\u001b[0m\u001b[0mspacy\u001b[0m\u001b[1;33m.\u001b[0m\u001b[0mio\u001b[0m\u001b[1;33m/\u001b[0m\u001b[0mapi\u001b[0m\u001b[1;33m/\u001b[0m\u001b[0mlanguage\u001b[0m\u001b[1;31m#call\u001b[0m\u001b[1;33m\u001b[0m\u001b[1;33m\u001b[0m\u001b[0m\n\u001b[0;32m    422\u001b[0m         \"\"\"\n\u001b[1;32m--> 423\u001b[1;33m         \u001b[1;32mif\u001b[0m \u001b[0mlen\u001b[0m\u001b[1;33m(\u001b[0m\u001b[0mtext\u001b[0m\u001b[1;33m)\u001b[0m \u001b[1;33m>\u001b[0m \u001b[0mself\u001b[0m\u001b[1;33m.\u001b[0m\u001b[0mmax_length\u001b[0m\u001b[1;33m:\u001b[0m\u001b[1;33m\u001b[0m\u001b[1;33m\u001b[0m\u001b[0m\n\u001b[0m\u001b[0;32m    424\u001b[0m             raise ValueError(\n\u001b[0;32m    425\u001b[0m                 \u001b[0mErrors\u001b[0m\u001b[1;33m.\u001b[0m\u001b[0mE088\u001b[0m\u001b[1;33m.\u001b[0m\u001b[0mformat\u001b[0m\u001b[1;33m(\u001b[0m\u001b[0mlength\u001b[0m\u001b[1;33m=\u001b[0m\u001b[0mlen\u001b[0m\u001b[1;33m(\u001b[0m\u001b[0mtext\u001b[0m\u001b[1;33m)\u001b[0m\u001b[1;33m,\u001b[0m \u001b[0mmax_length\u001b[0m\u001b[1;33m=\u001b[0m\u001b[0mself\u001b[0m\u001b[1;33m.\u001b[0m\u001b[0mmax_length\u001b[0m\u001b[1;33m)\u001b[0m\u001b[1;33m\u001b[0m\u001b[1;33m\u001b[0m\u001b[0m\n",
      "\u001b[1;31mTypeError\u001b[0m: object of type 'NoneType' has no len()"
     ]
    }
   ],
   "source": [
    "s[\"C\"] = s[\"Words\"].apply(nlp)"
   ]
  },
  {
   "cell_type": "code",
   "execution_count": 66,
   "metadata": {},
   "outputs": [
    {
     "data": {
      "text/plain": [
       "array([-6.6796e-03,  2.2238e-01,  2.7709e-01, -1.6760e-01,  3.9934e-01,\n",
       "       -2.6935e-01,  1.1758e-01,  8.2171e-01, -2.9600e-01,  2.7338e+00,\n",
       "       -5.1854e-01, -3.9980e-01,  4.5268e-02,  7.0994e-02,  3.8210e-01,\n",
       "       -1.9731e-01, -4.1031e-01,  9.1488e-01, -4.5642e-02,  1.9991e-01,\n",
       "        3.5154e-02,  4.0459e-02,  5.2444e-02,  1.6124e-01,  1.8280e-01,\n",
       "       -1.5186e-01,  3.1278e-01, -1.4228e-02, -7.5154e-02,  6.3618e-01,\n",
       "       -3.0658e-03,  1.1577e-01, -1.5101e-02, -9.5193e-02,  4.2313e-01,\n",
       "       -3.5243e-01,  1.5452e-01, -3.9491e-01,  6.1847e-02,  4.5658e-01,\n",
       "        1.8395e-01, -3.4329e-02,  8.0296e-02,  2.1393e-01, -1.2170e-01,\n",
       "        1.2957e-02, -2.3259e-01, -8.4731e-02,  4.4998e-02, -1.4019e-01,\n",
       "       -7.0056e-02, -1.2399e-01, -4.5609e-01, -1.0087e-01,  3.9152e-01,\n",
       "       -1.9437e-01,  3.1484e-01, -2.4423e-01,  7.8843e-01, -2.7220e-01,\n",
       "        3.5652e-02,  7.1816e-02, -9.9133e-02,  1.0260e-02, -1.4698e-01,\n",
       "        1.9898e-02,  1.5508e-01, -9.4629e-02, -1.1017e-01,  3.4240e-02,\n",
       "       -1.9389e-01, -4.3287e-01,  2.9240e-01,  2.0294e-01, -4.4540e-01,\n",
       "        3.3994e-01,  8.8975e-03, -1.5746e-02,  4.4674e-01,  4.8578e-01,\n",
       "        4.7199e-02,  2.3850e-01, -1.7062e-01,  1.3774e-01, -7.3939e-02,\n",
       "       -8.5463e-01, -9.5668e-01, -2.5329e-01, -1.1777e-01, -1.1812e-01,\n",
       "       -5.2252e-01,  2.0321e-01, -6.3754e-01,  1.3490e-01, -1.8466e-01,\n",
       "       -1.8157e-01,  2.6867e-02, -2.1901e-02,  2.6663e-01,  2.7428e-01,\n",
       "        3.3822e-01,  8.2030e-02, -2.8889e-01, -7.3748e-02, -8.9901e-03,\n",
       "       -1.0196e+00, -1.5378e-02,  9.8236e-02, -1.8926e-01,  1.0841e-01,\n",
       "        2.5414e-01, -2.0826e-01, -7.5681e-02, -2.2413e-01, -1.8159e-01,\n",
       "        4.6597e-01,  2.0012e-01,  2.8821e-01, -6.3588e-02, -2.5630e-01,\n",
       "       -2.1808e-01, -1.5706e-01,  2.6271e-01, -4.1973e-01,  1.0095e-01,\n",
       "        1.6371e-01,  2.2834e-01, -1.2602e-01,  3.7693e-01, -2.3717e-01,\n",
       "        4.2714e-01, -1.2639e-01,  2.1220e-01, -3.8119e-01, -9.5456e-02,\n",
       "       -2.6961e-01, -1.3042e-01, -2.1551e-01, -1.8953e-01,  3.0259e-01,\n",
       "       -1.9741e+00, -5.2030e-01,  2.9876e-01,  5.7871e-02,  2.1359e-01,\n",
       "       -3.4952e-01,  5.3584e-01,  3.6520e-01, -3.7080e-01, -6.3623e-02,\n",
       "        2.5807e-01, -2.6754e-02,  3.1513e-01,  2.6846e-01,  6.5093e-02,\n",
       "        2.5803e-04, -1.3588e-01,  2.4980e-01, -1.3909e-01,  1.1234e-01,\n",
       "        3.3316e-01,  3.4609e-01, -3.0484e-02,  1.9027e-01,  2.0124e-01,\n",
       "       -2.0287e-01,  3.0843e-01, -4.6492e-01,  2.7708e-01,  2.9172e-01,\n",
       "       -9.7622e-03, -3.0099e-01,  7.6570e-02, -9.7341e-02, -1.2393e-01,\n",
       "        1.4921e-01, -1.6147e-01, -1.7466e-01, -1.5586e-01,  2.1108e-01,\n",
       "        4.9188e-01,  2.9547e-01,  1.4422e-01, -3.3139e-01,  2.6869e-03,\n",
       "       -3.2858e-01,  5.1358e-03, -1.0870e-01,  1.9086e-02, -7.8923e-02,\n",
       "       -4.0630e-01, -2.0526e-01,  4.2546e-01,  2.9473e-01, -2.9929e-01,\n",
       "        6.7783e-02,  1.7279e-01,  1.6008e-01,  1.9886e-01,  4.5809e-02,\n",
       "        7.2766e-02, -8.6075e-02,  3.4542e-01,  2.8371e-01,  3.5538e-01,\n",
       "       -2.5499e-01,  3.1744e-01,  5.9334e-03, -3.7372e-01, -2.0612e-01,\n",
       "       -5.2648e-01, -7.4487e-01,  1.1757e-02, -3.0472e-01,  2.6317e-02,\n",
       "       -1.3342e-01,  3.0670e-01, -2.5618e-01, -1.8582e-01,  1.9382e-02,\n",
       "       -2.9999e-01,  2.0616e-01,  1.8106e-01, -1.3167e-01, -3.1513e-01,\n",
       "        2.1602e-01,  8.3713e-03,  3.5770e-01, -4.7267e-01,  3.9963e-01,\n",
       "        5.3379e-02,  1.7932e-01,  2.6909e-02, -4.4594e-02, -2.9042e-01,\n",
       "        9.6057e-02, -6.7086e-01, -1.8504e-01, -3.7122e-01, -3.7638e-01,\n",
       "        2.4558e-01,  2.5896e-01,  1.7423e-01,  2.3388e-01, -4.0986e-02,\n",
       "       -2.2366e-01, -2.4149e-01,  3.3690e-01, -5.1075e-01, -3.7846e-02,\n",
       "        3.4640e-01, -2.8095e-01,  7.0234e-02,  1.5570e-02, -1.6339e-01,\n",
       "       -4.6059e-03,  2.3066e-01,  3.4541e-01, -1.0091e-01,  3.8429e-01,\n",
       "        2.1258e-01,  2.6249e-01, -2.2807e-01,  1.6382e-01,  1.3648e-02,\n",
       "       -6.0375e-01, -1.5751e-01, -1.1807e-01,  6.0896e-01,  4.4867e-01,\n",
       "       -6.8183e-01, -3.7484e-01, -2.6337e-01,  1.9173e-02,  1.4897e-01,\n",
       "       -9.4622e-02, -8.9517e-02,  2.5521e-01,  1.9849e-01, -3.1701e-01,\n",
       "        4.1117e-02, -3.1162e-01,  6.1004e-02, -5.2715e-03, -1.0638e-01,\n",
       "       -2.7631e-01,  2.1142e-02, -1.1392e-01,  2.4777e-02, -6.5339e-02,\n",
       "       -6.2834e-01, -1.4461e-02, -1.4295e-01, -2.0125e-01, -6.6727e-02,\n",
       "        3.7398e-01,  3.1205e-02,  5.9372e-02,  1.4085e-03,  9.8727e-02],\n",
       "      dtype=float32)"
      ]
     },
     "execution_count": 66,
     "metadata": {},
     "output_type": "execute_result"
    }
   ],
   "source": [
    "s[\"C\"][1].vector"
   ]
  },
  {
   "cell_type": "code",
   "execution_count": null,
   "metadata": {},
   "outputs": [],
   "source": []
  }
 ],
 "metadata": {
  "kernelspec": {
   "display_name": "Python 3",
   "language": "python",
   "name": "python3"
  },
  "language_info": {
   "codemirror_mode": {
    "name": "ipython",
    "version": 3
   },
   "file_extension": ".py",
   "mimetype": "text/x-python",
   "name": "python",
   "nbconvert_exporter": "python",
   "pygments_lexer": "ipython3",
   "version": "3.7.4"
  }
 },
 "nbformat": 4,
 "nbformat_minor": 2
}
